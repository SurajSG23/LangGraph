{
 "cells": [
  {
   "cell_type": "code",
   "execution_count": null,
   "id": "690b74fa-21d4-48b8-a71b-73f5b7d27d15",
   "metadata": {},
   "outputs": [],
   "source": []
  }
 ],
 "metadata": {
  "kernelspec": {
   "display_name": "",
   "name": ""
  },
  "language_info": {
   "name": ""
  }
 },
 "nbformat": 4,
 "nbformat_minor": 5
}
