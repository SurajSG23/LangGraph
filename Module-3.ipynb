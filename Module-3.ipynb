{
 "cells": [
  {
   "cell_type": "markdown",
   "id": "fe8d766a-033a-4e8a-a42a-5d401f069f39",
   "metadata": {},
   "source": [
    "# Thread level Persistence"
   ]
  },
  {
   "cell_type": "markdown",
   "id": "d61ece93-fce1-4179-b3cf-f8c6bda9cc82",
   "metadata": {},
   "source": [
    "#### **1. Checkpointers (in LangGraph)**\n",
    "\n",
    "* Think of a **checkpointer** like a “save game” in a video game.\n",
    "* It **remembers the state** of your workflow (like what data you’ve processed, what step you’re on).\n",
    "* If something crashes or you want to resume later, the checkpointer lets you **continue from where you left off** instead of starting from scratch.\n",
    "\n",
    "Example:\n",
    "You’re processing 100 documents. After 50, your program stops.\n",
    "\n",
    "* With a checkpointer → next time, it resumes at document 51.\n",
    "* Without a checkpointer → it starts again from document 1.\n",
    "\n",
    "---\n",
    "\n",
    "#### **2. Threads (in LangGraph)**\n",
    "\n",
    "* A **thread** is like a “conversation line” or “execution flow.”\n",
    "* Each user session or workflow run can have its own **thread ID**.\n",
    "* This keeps data and context separate between different tasks or users.\n",
    "\n",
    "Example:\n",
    "\n",
    "* User A’s chatbot session = Thread 1\n",
    "* User B’s chatbot session = Thread 2\n",
    "* They don’t mix, because each thread has its own memory and checkpoints.\n",
    "\n",
    "---\n",
    "\n",
    "#### **3. State Snapshot**\n",
    "\n",
    "* A **snapshot** is like taking a photo of your program’s current state.\n",
    "* It freezes everything (inputs, outputs, progress) so you can **restore it later**.\n",
    "* Snapshots are created by checkpointers to know exactly where to restart.\n",
    "\n",
    "Example: Chatbot saves a snapshot after every reply. If it crashes, it reloads the last snapshot and continues.\n",
    "\n",
    "---\n",
    "\n",
    "#### **4. Short-term Memory**\n",
    "\n",
    "* Short-term memory = what the system remembers **within a single thread/session**.\n",
    "* It’s like remembering the last few messages, but it doesn’t survive forever.\n",
    "\n",
    "Example: The chatbot remembers what you said 2 minutes ago in the same session.\n",
    "\n",
    "---\n",
    "\n",
    "### **5. Long-term Memory**\n",
    "\n",
    "* Long-term memory = what’s saved **permanently across sessions/threads**.\n",
    "* It survives restarts and can be recalled even in a new conversation.\n",
    "\n",
    "Example: The chatbot remembers your name and preferences even if you come back tomorrow.\n",
    "\n",
    "---\n",
    "\n"
   ]
  },
  {
   "cell_type": "markdown",
   "id": "7e2de003-2093-4607-ae00-8c1551073bbd",
   "metadata": {},
   "source": [
    "# Short-term memory with the InMemorySaver"
   ]
  },
  {
   "cell_type": "code",
   "execution_count": 13,
   "id": "a5163238-a891-4157-952c-a658f8d967bc",
   "metadata": {},
   "outputs": [],
   "source": [
    "from langgraph.graph import START, END, StateGraph, MessagesState\n",
    "from langchain_google_genai import ChatGoogleGenerativeAI\n",
    "from langchain_core.messages import HumanMessage, AIMessage, SystemMessage, BaseMessage, RemoveMessage\n",
    "from langgraph.checkpoint.memory import InMemorySaver\n",
    "import config"
   ]
  },
  {
   "cell_type": "code",
   "execution_count": 2,
   "id": "f2e235a3-f23e-4b24-a699-8d3956b46078",
   "metadata": {},
   "outputs": [],
   "source": [
    "llm = ChatGoogleGenerativeAI(\n",
    "    model=\"gemini-2.0-flash\",\n",
    "    google_api_key=config.gemini_api_key,\n",
    "    temperature=0,\n",
    "    max_tokens=250,\n",
    "    model_kwargs={\"seed\": 42}\n",
    ")"
   ]
  },
  {
   "cell_type": "code",
   "execution_count": 3,
   "id": "fe1a6233-3ef7-47d1-8821-4480f000b38c",
   "metadata": {},
   "outputs": [],
   "source": [
    "def AskGeminiAI(question):\n",
    "    response = llm.invoke(question)\n",
    "    return response"
   ]
  },
  {
   "cell_type": "code",
   "execution_count": 4,
   "id": "e7b81df8-8598-44a2-85c2-e81325954cf3",
   "metadata": {},
   "outputs": [],
   "source": [
    "class State(MessagesState):\n",
    "    summary: str"
   ]
  },
  {
   "cell_type": "code",
   "execution_count": 5,
   "id": "ba3f17f8-3916-4572-8d28-f085b0f9542e",
   "metadata": {},
   "outputs": [],
   "source": [
    "def ask_question(state: State) -> State:\n",
    "    \n",
    "    print(f\"\\n-------> ENTERING ask_question:\")\n",
    "    \n",
    "    question = \"What is your question?\"\n",
    "    print(question)\n",
    "    \n",
    "    return State(messages = [AIMessage(question), HumanMessage(input())])"
   ]
  },
  {
   "cell_type": "code",
   "execution_count": 6,
   "id": "1f718052-ea57-46d8-bc12-988164479e5f",
   "metadata": {},
   "outputs": [],
   "source": [
    "def chatbot(state: State) -> State:\n",
    "    \n",
    "    print(f\"\\n-------> ENTERING chatbot:\")\n",
    "        \n",
    "    system_message = f'''\n",
    "    Here's a quick summary of what's been discussed so far:\n",
    "    {state.get(\"summary\", \"\")}\n",
    "    \n",
    "    Keep this in mind as you answer the next question.\n",
    "    '''\n",
    "    \n",
    "    response = AskGeminiAI([SystemMessage(system_message)] + state[\"messages\"])\n",
    "    response.pretty_print()\n",
    "    \n",
    "    return State(messages = [response])"
   ]
  },
  {
   "cell_type": "code",
   "execution_count": 7,
   "id": "c1bd4387-ca86-4eeb-be40-86fbe8c413d5",
   "metadata": {},
   "outputs": [],
   "source": [
    "def summarize_messages(state: State) -> State:\n",
    "    print(f\"\\n-------> ENTERING summarize_messages:\")\n",
    "\n",
    "    new_conversation = \"\"\n",
    "    for i in state[\"messages\"]:\n",
    "        new_conversation += f\"{i.type}: {i.content}\\n\\n\"\n",
    "    \n",
    "    summary_instructions = f'''\n",
    "        Update the ongoing summary by incorporating the new lines of conversation below. \n",
    "        Build upon the previous summary rather than repeating it, \n",
    "        so that the result reflects the most recent context and developments.\n",
    "        Respond only with the summary.\n",
    "        \n",
    "        Previous Summary:\n",
    "        {state.get(\"summary\", \"\")}\n",
    "        \n",
    "        New Conversation:\n",
    "        {new_conversation}\n",
    "        '''\n",
    "\n",
    "    print(summary_instructions)\n",
    "\n",
    "    summary = AskGeminiAI([HumanMessage(summary_instructions)])\n",
    "    \n",
    "    remove_messages = [RemoveMessage(id = i.id) for i in state[\"messages\"][:]]\n",
    "\n",
    "    return State(messages = remove_messages, summary = summary.content)"
   ]
  },
  {
   "cell_type": "code",
   "execution_count": 16,
   "id": "0e7723a5-6253-43ec-878a-aca55b817f26",
   "metadata": {},
   "outputs": [
    {
     "data": {
      "text/plain": [
       "<langgraph.graph.state.StateGraph at 0x27486788750>"
      ]
     },
     "execution_count": 16,
     "metadata": {},
     "output_type": "execute_result"
    }
   ],
   "source": [
    "graph = StateGraph(State)\n",
    "\n",
    "graph.add_node(\"ask_question\", ask_question)\n",
    "graph.add_node(\"chatbot\", chatbot)\n",
    "graph.add_node(\"summarize_messages\", summarize_messages)\n",
    "\n",
    "graph.add_edge(START, \"ask_question\")\n",
    "graph.add_edge(\"ask_question\", \"chatbot\")\n",
    "graph.add_edge(\"chatbot\", \"summarize_messages\")\n",
    "graph.add_edge(\"summarize_messages\", END)"
   ]
  },
  {
   "cell_type": "code",
   "execution_count": 17,
   "id": "ad6ea384-db25-4114-864e-59eb1a9f9c45",
   "metadata": {},
   "outputs": [],
   "source": [
    "checkpointer = InMemorySaver()\n",
    "graph_compiled = graph.compile(checkpointer)"
   ]
  },
  {
   "cell_type": "markdown",
   "id": "98ae27f8-754e-40ed-bea3-4f46eee37bcc",
   "metadata": {},
   "source": [
    "1. **`InMemorySaver()`**\n",
    "\n",
    "   * This is your **checkpointer**.\n",
    "   * It stores the graph’s progress (state, snapshots) **in memory (RAM)**.\n",
    "   * So if you run the graph again in the same session, it can remember where it left off.\n",
    "   * But once you stop the program, this memory is gone (not saved to disk).\n",
    "\n",
    "2. **`graph.compile(checkpointer)`**\n",
    "\n",
    "   * This takes your `graph` and **adds checkpointing ability** to it.\n",
    "   * So every time the graph runs, it can **save and reload snapshots** using the checkpointer.\n",
    "\n",
    "---    "
   ]
  },
  {
   "cell_type": "code",
   "execution_count": 18,
   "id": "83c22b1e-88e0-4673-ae11-830bffa0d8f9",
   "metadata": {},
   "outputs": [
    {
     "name": "stdout",
     "output_type": "stream",
     "text": [
      "    +-----------+      \n",
      "    | __start__ |      \n",
      "    +-----------+      \n",
      "           *           \n",
      "           *           \n",
      "           *           \n",
      "   +--------------+    \n",
      "   | ask_question |    \n",
      "   +--------------+    \n",
      "           *           \n",
      "           *           \n",
      "           *           \n",
      "      +---------+      \n",
      "      | chatbot |      \n",
      "      +---------+      \n",
      "           *           \n",
      "           *           \n",
      "           *           \n",
      "+--------------------+ \n",
      "| summarize_messages | \n",
      "+--------------------+ \n",
      "           *           \n",
      "           *           \n",
      "           *           \n",
      "      +---------+      \n",
      "      | __end__ |      \n",
      "      +---------+      \n"
     ]
    }
   ],
   "source": [
    "print(graph_compiled.get_graph().draw_ascii())"
   ]
  },
  {
   "cell_type": "code",
   "execution_count": 19,
   "id": "a19bb142-b643-4db5-84a5-b2e810150a38",
   "metadata": {},
   "outputs": [],
   "source": [
    "config1 = {\"configurable\": {\"thread_id\": \"1\"}}\n",
    "config2 = {\"configurable\": {\"thread_id\": \"2\"}}"
   ]
  },
  {
   "cell_type": "markdown",
   "id": "669ab1e7-ee75-4146-8cf1-d67bca2ebd39",
   "metadata": {},
   "source": [
    "### What this does\n",
    "\n",
    "1. **`config1` and `config2`**\n",
    "\n",
    "   * These are **thread configurations**.\n",
    "   * Each has a different `thread_id` (`\"1\"` vs `\"2\"`).\n",
    "   * That means LangGraph will treat them as **two separate conversation flows**.\n",
    "\n",
    "2. **`graph_compiled.invoke(State(), config2)`**\n",
    "\n",
    "   * You’re starting the graph with an initial `State()` in **thread 2**.\n",
    "   * Because the `thread_id` is `2`, LangGraph will **store and checkpoint progress** separately from thread 1.\n",
    "   * If you invoked with `config1`, it would continue the progress of **thread 1**, not thread 2.\n",
    "\n",
    "---"
   ]
  },
  {
   "cell_type": "code",
   "execution_count": 20,
   "id": "3c61b08d-d24d-4418-b831-ad85d136c901",
   "metadata": {
    "scrolled": true
   },
   "outputs": [
    {
     "name": "stdout",
     "output_type": "stream",
     "text": [
      "\n",
      "-------> ENTERING ask_question:\n",
      "What is your question?\n"
     ]
    },
    {
     "name": "stdin",
     "output_type": "stream",
     "text": [
      " My pet name is Sonu.\n"
     ]
    },
    {
     "name": "stdout",
     "output_type": "stream",
     "text": [
      "\n",
      "-------> ENTERING chatbot:\n",
      "==================================\u001b[1m Ai Message \u001b[0m==================================\n",
      "\n",
      "Okay, I will remember that your pet name is Sonu.\n",
      "\n",
      "-------> ENTERING summarize_messages:\n",
      "\n",
      "        Update the ongoing summary by incorporating the new lines of conversation below. \n",
      "        Build upon the previous summary rather than repeating it, \n",
      "        so that the result reflects the most recent context and developments.\n",
      "        Respond only with the summary.\n",
      "\n",
      "        Previous Summary:\n",
      "        \n",
      "\n",
      "        New Conversation:\n",
      "        ai: What is your question?\n",
      "\n",
      "human: My pet name is Sonu.\n",
      "\n",
      "ai: Okay, I will remember that your pet name is Sonu.\n",
      "\n",
      "\n",
      "        \n"
     ]
    },
    {
     "data": {
      "text/plain": [
       "{'messages': [],\n",
       " 'summary': 'The AI is interacting with a user and has asked a question. The user responded by stating their pet name is Sonu, and the AI has acknowledged this and stated it will remember the information.'}"
      ]
     },
     "execution_count": 20,
     "metadata": {},
     "output_type": "execute_result"
    }
   ],
   "source": [
    "graph_compiled.invoke(State(), config1)"
   ]
  },
  {
   "cell_type": "code",
   "execution_count": 21,
   "id": "10080ace-4d3d-4705-a6ee-0577615c16ab",
   "metadata": {
    "scrolled": true
   },
   "outputs": [
    {
     "name": "stdout",
     "output_type": "stream",
     "text": [
      "\n",
      "-------> ENTERING ask_question:\n",
      "What is your question?\n"
     ]
    },
    {
     "name": "stdin",
     "output_type": "stream",
     "text": [
      " What is my pet name?\n"
     ]
    },
    {
     "name": "stdout",
     "output_type": "stream",
     "text": [
      "\n",
      "-------> ENTERING chatbot:\n",
      "==================================\u001b[1m Ai Message \u001b[0m==================================\n",
      "\n",
      "Your pet name is Sonu.\n",
      "\n",
      "-------> ENTERING summarize_messages:\n",
      "\n",
      "        Update the ongoing summary by incorporating the new lines of conversation below. \n",
      "        Build upon the previous summary rather than repeating it, \n",
      "        so that the result reflects the most recent context and developments.\n",
      "        Respond only with the summary.\n",
      "\n",
      "        Previous Summary:\n",
      "        The AI is interacting with a user and has asked a question. The user responded by stating their pet name is Sonu, and the AI has acknowledged this and stated it will remember the information.\n",
      "\n",
      "        New Conversation:\n",
      "        ai: What is your question?\n",
      "\n",
      "human: What is my pet name?\n",
      "\n",
      "ai: Your pet name is Sonu.\n",
      "\n",
      "\n",
      "        \n"
     ]
    },
    {
     "data": {
      "text/plain": [
       "{'messages': [],\n",
       " 'summary': \"The AI is interacting with a user and has asked a question. The user responded by stating their pet name is Sonu, and the AI has acknowledged this and stated it will remember the information. The AI then asked the user what their question was, and the user asked what their pet name was. The AI then correctly stated the user's pet name is Sonu.\"}"
      ]
     },
     "execution_count": 21,
     "metadata": {},
     "output_type": "execute_result"
    }
   ],
   "source": [
    "graph_compiled.invoke(State(), config1)"
   ]
  },
  {
   "cell_type": "code",
   "execution_count": 22,
   "id": "ad2fc00a-fa77-43ca-9eb5-22d75621a479",
   "metadata": {
    "scrolled": true
   },
   "outputs": [
    {
     "name": "stdout",
     "output_type": "stream",
     "text": [
      "\n",
      "-------> ENTERING ask_question:\n",
      "What is your question?\n"
     ]
    },
    {
     "name": "stdin",
     "output_type": "stream",
     "text": [
      " Do you know my pet name?\n"
     ]
    },
    {
     "name": "stdout",
     "output_type": "stream",
     "text": [
      "\n",
      "-------> ENTERING chatbot:\n",
      "==================================\u001b[1m Ai Message \u001b[0m==================================\n",
      "\n",
      "As a large language model, I have no memory of past conversations and no personal connection to you. Therefore, I do not know your pet's name.\n",
      "\n",
      "-------> ENTERING summarize_messages:\n",
      "\n",
      "        Update the ongoing summary by incorporating the new lines of conversation below. \n",
      "        Build upon the previous summary rather than repeating it, \n",
      "        so that the result reflects the most recent context and developments.\n",
      "        Respond only with the summary.\n",
      "\n",
      "        Previous Summary:\n",
      "        \n",
      "\n",
      "        New Conversation:\n",
      "        ai: What is your question?\n",
      "\n",
      "human: Do you know my pet name?\n",
      "\n",
      "ai: As a large language model, I have no memory of past conversations and no personal connection to you. Therefore, I do not know your pet's name.\n",
      "\n",
      "\n",
      "        \n"
     ]
    },
    {
     "data": {
      "text/plain": [
       "{'messages': [],\n",
       " 'summary': \"The AI has stated it has no memory of past conversations and no personal connection to the user. Consequently, it does not know the user's pet's name.\"}"
      ]
     },
     "execution_count": 22,
     "metadata": {},
     "output_type": "execute_result"
    }
   ],
   "source": [
    "graph_compiled.invoke(State(), config2)"
   ]
  },
  {
   "cell_type": "markdown",
   "id": "1b355150-f077-46c4-9a02-03f8cc7c8547",
   "metadata": {},
   "source": [
    "# The StateSnapshot class"
   ]
  },
  {
   "cell_type": "code",
   "execution_count": 23,
   "id": "3f92486e-ba83-4aab-8584-b5ef3351bf9d",
   "metadata": {},
   "outputs": [],
   "source": [
    "graph_states = [i for i in graph_compiled.get_state_history(config1)]"
   ]
  },
  {
   "cell_type": "code",
   "execution_count": 24,
   "id": "c34ba1c4-106c-4e3e-af2e-e421c742bb31",
   "metadata": {
    "scrolled": true
   },
   "outputs": [
    {
     "data": {
      "text/plain": [
       "[StateSnapshot(values={'messages': [], 'summary': \"The AI is interacting with a user and has asked a question. The user responded by stating their pet name is Sonu, and the AI has acknowledged this and stated it will remember the information. The AI then asked the user what their question was, and the user asked what their pet name was. The AI then correctly stated the user's pet name is Sonu.\"}, next=(), config={'configurable': {'thread_id': '1', 'checkpoint_ns': '', 'checkpoint_id': '1f0a02d1-4711-6925-8008-be8058a9c95f'}}, metadata={'source': 'loop', 'step': 8, 'parents': {}}, created_at='2025-10-03T07:46:32.541418+00:00', parent_config={'configurable': {'thread_id': '1', 'checkpoint_ns': '', 'checkpoint_id': '1f0a02d1-3d3e-61db-8007-5deabd3c7670'}}, tasks=(), interrupts=()),\n",
       " StateSnapshot(values={'messages': [AIMessage(content='What is your question?', additional_kwargs={}, response_metadata={}, id='615a29c2-7d00-4a2b-8d8c-dbc899b668a1'), HumanMessage(content='What is my pet name?', additional_kwargs={}, response_metadata={}, id='aea80fe3-6c70-425c-84cb-3bf04f57d4cb'), AIMessage(content='Your pet name is Sonu.', additional_kwargs={}, response_metadata={'prompt_feedback': {'block_reason': 0, 'safety_ratings': []}, 'finish_reason': 'STOP', 'model_name': 'gemini-2.0-flash', 'safety_ratings': []}, id='run--f09a5ee2-78e3-4b50-9417-f6f093ef57a7-0', usage_metadata={'input_tokens': 84, 'output_tokens': 8, 'total_tokens': 92, 'input_token_details': {'cache_read': 0}})], 'summary': 'The AI is interacting with a user and has asked a question. The user responded by stating their pet name is Sonu, and the AI has acknowledged this and stated it will remember the information.'}, next=('summarize_messages',), config={'configurable': {'thread_id': '1', 'checkpoint_ns': '', 'checkpoint_id': '1f0a02d1-3d3e-61db-8007-5deabd3c7670'}}, metadata={'source': 'loop', 'step': 7, 'parents': {}}, created_at='2025-10-03T07:46:31.511087+00:00', parent_config={'configurable': {'thread_id': '1', 'checkpoint_ns': '', 'checkpoint_id': '1f0a02d1-372d-60e2-8006-48e8841472e5'}}, tasks=(PregelTask(id='e5aa783f-ae04-6979-b73b-674009d7721c', name='summarize_messages', path=('__pregel_pull', 'summarize_messages'), error=None, interrupts=(), state=None, result={'messages': [RemoveMessage(content='', additional_kwargs={}, response_metadata={}, id='615a29c2-7d00-4a2b-8d8c-dbc899b668a1'), RemoveMessage(content='', additional_kwargs={}, response_metadata={}, id='aea80fe3-6c70-425c-84cb-3bf04f57d4cb'), RemoveMessage(content='', additional_kwargs={}, response_metadata={}, id='run--f09a5ee2-78e3-4b50-9417-f6f093ef57a7-0')], 'summary': \"The AI is interacting with a user and has asked a question. The user responded by stating their pet name is Sonu, and the AI has acknowledged this and stated it will remember the information. The AI then asked the user what their question was, and the user asked what their pet name was. The AI then correctly stated the user's pet name is Sonu.\"}),), interrupts=()),\n",
       " StateSnapshot(values={'messages': [AIMessage(content='What is your question?', additional_kwargs={}, response_metadata={}, id='615a29c2-7d00-4a2b-8d8c-dbc899b668a1'), HumanMessage(content='What is my pet name?', additional_kwargs={}, response_metadata={}, id='aea80fe3-6c70-425c-84cb-3bf04f57d4cb')], 'summary': 'The AI is interacting with a user and has asked a question. The user responded by stating their pet name is Sonu, and the AI has acknowledged this and stated it will remember the information.'}, next=('chatbot',), config={'configurable': {'thread_id': '1', 'checkpoint_ns': '', 'checkpoint_id': '1f0a02d1-372d-60e2-8006-48e8841472e5'}}, metadata={'source': 'loop', 'step': 6, 'parents': {}}, created_at='2025-10-03T07:46:30.874953+00:00', parent_config={'configurable': {'thread_id': '1', 'checkpoint_ns': '', 'checkpoint_id': '1f0a02d0-ec4d-63bf-8005-6908178bbe58'}}, tasks=(PregelTask(id='faf31755-9452-e695-0b48-51c5a619dd2c', name='chatbot', path=('__pregel_pull', 'chatbot'), error=None, interrupts=(), state=None, result={'messages': [AIMessage(content='Your pet name is Sonu.', additional_kwargs={}, response_metadata={'prompt_feedback': {'block_reason': 0, 'safety_ratings': []}, 'finish_reason': 'STOP', 'model_name': 'gemini-2.0-flash', 'safety_ratings': []}, id='run--f09a5ee2-78e3-4b50-9417-f6f093ef57a7-0', usage_metadata={'input_tokens': 84, 'output_tokens': 8, 'total_tokens': 92, 'input_token_details': {'cache_read': 0}})]}),), interrupts=()),\n",
       " StateSnapshot(values={'messages': [], 'summary': 'The AI is interacting with a user and has asked a question. The user responded by stating their pet name is Sonu, and the AI has acknowledged this and stated it will remember the information.'}, next=('ask_question',), config={'configurable': {'thread_id': '1', 'checkpoint_ns': '', 'checkpoint_id': '1f0a02d0-ec4d-63bf-8005-6908178bbe58'}}, metadata={'source': 'loop', 'step': 5, 'parents': {}}, created_at='2025-10-03T07:46:23.023814+00:00', parent_config={'configurable': {'thread_id': '1', 'checkpoint_ns': '', 'checkpoint_id': '1f0a02d0-ec48-64f0-8004-1a9197e70577'}}, tasks=(PregelTask(id='06cf1a8b-db1c-6e97-e060-2a3e14565dea', name='ask_question', path=('__pregel_pull', 'ask_question'), error=None, interrupts=(), state=None, result={'messages': [AIMessage(content='What is your question?', additional_kwargs={}, response_metadata={}, id='615a29c2-7d00-4a2b-8d8c-dbc899b668a1'), HumanMessage(content='What is my pet name?', additional_kwargs={}, response_metadata={}, id='aea80fe3-6c70-425c-84cb-3bf04f57d4cb')]}),), interrupts=()),\n",
       " StateSnapshot(values={'messages': [], 'summary': 'The AI is interacting with a user and has asked a question. The user responded by stating their pet name is Sonu, and the AI has acknowledged this and stated it will remember the information.'}, next=('__start__',), config={'configurable': {'thread_id': '1', 'checkpoint_ns': '', 'checkpoint_id': '1f0a02d0-ec48-64f0-8004-1a9197e70577'}}, metadata={'source': 'input', 'step': 4, 'parents': {}}, created_at='2025-10-03T07:46:23.021796+00:00', parent_config={'configurable': {'thread_id': '1', 'checkpoint_ns': '', 'checkpoint_id': '1f0a02d0-950e-6580-8003-db604f5b656d'}}, tasks=(PregelTask(id='32ecc70e-72fb-3c59-838b-ddc7e4e06d01', name='__start__', path=('__pregel_pull', '__start__'), error=None, interrupts=(), state=None, result={}),), interrupts=()),\n",
       " StateSnapshot(values={'messages': [], 'summary': 'The AI is interacting with a user and has asked a question. The user responded by stating their pet name is Sonu, and the AI has acknowledged this and stated it will remember the information.'}, next=(), config={'configurable': {'thread_id': '1', 'checkpoint_ns': '', 'checkpoint_id': '1f0a02d0-950e-6580-8003-db604f5b656d'}}, metadata={'source': 'loop', 'step': 3, 'parents': {}}, created_at='2025-10-03T07:46:13.875443+00:00', parent_config={'configurable': {'thread_id': '1', 'checkpoint_ns': '', 'checkpoint_id': '1f0a02d0-8c47-6ad1-8002-a4afa114ef83'}}, tasks=(), interrupts=()),\n",
       " StateSnapshot(values={'messages': [AIMessage(content='What is your question?', additional_kwargs={}, response_metadata={}, id='7da62dc5-afbc-4906-8eda-eb6174b9ec22'), HumanMessage(content='My pet name is Sonu.', additional_kwargs={}, response_metadata={}, id='a301e56e-9169-44b1-8ff2-f584c1c804a0'), AIMessage(content='Okay, I will remember that your pet name is Sonu.', additional_kwargs={}, response_metadata={'prompt_feedback': {'block_reason': 0, 'safety_ratings': []}, 'finish_reason': 'STOP', 'model_name': 'gemini-2.0-flash', 'safety_ratings': []}, id='run--584b8c57-3e3b-4cc5-bed1-36f055a316b4-0', usage_metadata={'input_tokens': 46, 'output_tokens': 14, 'total_tokens': 60, 'input_token_details': {'cache_read': 0}})]}, next=('summarize_messages',), config={'configurable': {'thread_id': '1', 'checkpoint_ns': '', 'checkpoint_id': '1f0a02d0-8c47-6ad1-8002-a4afa114ef83'}}, metadata={'source': 'loop', 'step': 2, 'parents': {}}, created_at='2025-10-03T07:46:12.955208+00:00', parent_config={'configurable': {'thread_id': '1', 'checkpoint_ns': '', 'checkpoint_id': '1f0a02d0-8074-6c4c-8001-d4b1f06a4747'}}, tasks=(PregelTask(id='1f4d70ad-b396-f27b-69d5-59327f627aa4', name='summarize_messages', path=('__pregel_pull', 'summarize_messages'), error=None, interrupts=(), state=None, result={'messages': [RemoveMessage(content='', additional_kwargs={}, response_metadata={}, id='7da62dc5-afbc-4906-8eda-eb6174b9ec22'), RemoveMessage(content='', additional_kwargs={}, response_metadata={}, id='a301e56e-9169-44b1-8ff2-f584c1c804a0'), RemoveMessage(content='', additional_kwargs={}, response_metadata={}, id='run--584b8c57-3e3b-4cc5-bed1-36f055a316b4-0')], 'summary': 'The AI is interacting with a user and has asked a question. The user responded by stating their pet name is Sonu, and the AI has acknowledged this and stated it will remember the information.'}),), interrupts=()),\n",
       " StateSnapshot(values={'messages': [AIMessage(content='What is your question?', additional_kwargs={}, response_metadata={}, id='7da62dc5-afbc-4906-8eda-eb6174b9ec22'), HumanMessage(content='My pet name is Sonu.', additional_kwargs={}, response_metadata={}, id='a301e56e-9169-44b1-8ff2-f584c1c804a0')]}, next=('chatbot',), config={'configurable': {'thread_id': '1', 'checkpoint_ns': '', 'checkpoint_id': '1f0a02d0-8074-6c4c-8001-d4b1f06a4747'}}, metadata={'source': 'loop', 'step': 1, 'parents': {}}, created_at='2025-10-03T07:46:11.715386+00:00', parent_config={'configurable': {'thread_id': '1', 'checkpoint_ns': '', 'checkpoint_id': '1f0a02d0-3810-6f3e-8000-d1eda099b5cb'}}, tasks=(PregelTask(id='18de3b6a-f167-6d60-9b25-1076e02d3192', name='chatbot', path=('__pregel_pull', 'chatbot'), error=None, interrupts=(), state=None, result={'messages': [AIMessage(content='Okay, I will remember that your pet name is Sonu.', additional_kwargs={}, response_metadata={'prompt_feedback': {'block_reason': 0, 'safety_ratings': []}, 'finish_reason': 'STOP', 'model_name': 'gemini-2.0-flash', 'safety_ratings': []}, id='run--584b8c57-3e3b-4cc5-bed1-36f055a316b4-0', usage_metadata={'input_tokens': 46, 'output_tokens': 14, 'total_tokens': 60, 'input_token_details': {'cache_read': 0}})]}),), interrupts=()),\n",
       " StateSnapshot(values={'messages': []}, next=('ask_question',), config={'configurable': {'thread_id': '1', 'checkpoint_ns': '', 'checkpoint_id': '1f0a02d0-3810-6f3e-8000-d1eda099b5cb'}}, metadata={'source': 'loop', 'step': 0, 'parents': {}}, created_at='2025-10-03T07:46:04.124755+00:00', parent_config={'configurable': {'thread_id': '1', 'checkpoint_ns': '', 'checkpoint_id': '1f0a02d0-37fe-6945-bfff-6cef31ff5157'}}, tasks=(PregelTask(id='a8b87f87-7134-12b7-945f-ff7326db640e', name='ask_question', path=('__pregel_pull', 'ask_question'), error=None, interrupts=(), state=None, result={'messages': [AIMessage(content='What is your question?', additional_kwargs={}, response_metadata={}, id='7da62dc5-afbc-4906-8eda-eb6174b9ec22'), HumanMessage(content='My pet name is Sonu.', additional_kwargs={}, response_metadata={}, id='a301e56e-9169-44b1-8ff2-f584c1c804a0')]}),), interrupts=()),\n",
       " StateSnapshot(values={'messages': []}, next=('__start__',), config={'configurable': {'thread_id': '1', 'checkpoint_ns': '', 'checkpoint_id': '1f0a02d0-37fe-6945-bfff-6cef31ff5157'}}, metadata={'source': 'input', 'step': -1, 'parents': {}}, created_at='2025-10-03T07:46:04.117229+00:00', parent_config=None, tasks=(PregelTask(id='61aa4755-e52b-2eb9-33d7-de7ed8e99cee', name='__start__', path=('__pregel_pull', '__start__'), error=None, interrupts=(), state=None, result={}),), interrupts=())]"
      ]
     },
     "execution_count": 24,
     "metadata": {},
     "output_type": "execute_result"
    }
   ],
   "source": [
    "graph_states"
   ]
  },
  {
   "cell_type": "code",
   "execution_count": 28,
   "id": "56b6c29e-ea4d-4d47-a5cc-3f6858f2a58e",
   "metadata": {
    "scrolled": true
   },
   "outputs": [
    {
     "name": "stdout",
     "output_type": "stream",
     "text": [
      "\n",
      "            Messages: []\n",
      "            Summary: \n",
      "            Next: ('__start__',)\n",
      "            Step: -1\n",
      "            \n",
      "\n",
      "            Messages: []\n",
      "            Summary: \n",
      "            Next: ('ask_question',)\n",
      "            Step: 0\n",
      "            \n",
      "\n",
      "            Messages: [AIMessage(content='What is your question?', additional_kwargs={}, response_metadata={}, id='7da62dc5-afbc-4906-8eda-eb6174b9ec22'), HumanMessage(content='My pet name is Sonu.', additional_kwargs={}, response_metadata={}, id='a301e56e-9169-44b1-8ff2-f584c1c804a0')]\n",
      "            Summary: \n",
      "            Next: ('chatbot',)\n",
      "            Step: 1\n",
      "            \n",
      "\n",
      "            Messages: [AIMessage(content='What is your question?', additional_kwargs={}, response_metadata={}, id='7da62dc5-afbc-4906-8eda-eb6174b9ec22'), HumanMessage(content='My pet name is Sonu.', additional_kwargs={}, response_metadata={}, id='a301e56e-9169-44b1-8ff2-f584c1c804a0'), AIMessage(content='Okay, I will remember that your pet name is Sonu.', additional_kwargs={}, response_metadata={'prompt_feedback': {'block_reason': 0, 'safety_ratings': []}, 'finish_reason': 'STOP', 'model_name': 'gemini-2.0-flash', 'safety_ratings': []}, id='run--584b8c57-3e3b-4cc5-bed1-36f055a316b4-0', usage_metadata={'input_tokens': 46, 'output_tokens': 14, 'total_tokens': 60, 'input_token_details': {'cache_read': 0}})]\n",
      "            Summary: \n",
      "            Next: ('summarize_messages',)\n",
      "            Step: 2\n",
      "            \n",
      "\n",
      "            Messages: []\n",
      "            Summary: The AI is interacting with a user and has asked a question. The user responded by stating their pet name is Sonu, and the AI has acknowledged this and stated it will remember the information.\n",
      "            Next: ()\n",
      "            Step: 3\n",
      "            \n",
      "\n",
      "            Messages: []\n",
      "            Summary: The AI is interacting with a user and has asked a question. The user responded by stating their pet name is Sonu, and the AI has acknowledged this and stated it will remember the information.\n",
      "            Next: ('__start__',)\n",
      "            Step: 4\n",
      "            \n",
      "\n",
      "            Messages: []\n",
      "            Summary: The AI is interacting with a user and has asked a question. The user responded by stating their pet name is Sonu, and the AI has acknowledged this and stated it will remember the information.\n",
      "            Next: ('ask_question',)\n",
      "            Step: 5\n",
      "            \n",
      "\n",
      "            Messages: [AIMessage(content='What is your question?', additional_kwargs={}, response_metadata={}, id='615a29c2-7d00-4a2b-8d8c-dbc899b668a1'), HumanMessage(content='What is my pet name?', additional_kwargs={}, response_metadata={}, id='aea80fe3-6c70-425c-84cb-3bf04f57d4cb')]\n",
      "            Summary: The AI is interacting with a user and has asked a question. The user responded by stating their pet name is Sonu, and the AI has acknowledged this and stated it will remember the information.\n",
      "            Next: ('chatbot',)\n",
      "            Step: 6\n",
      "            \n",
      "\n",
      "            Messages: [AIMessage(content='What is your question?', additional_kwargs={}, response_metadata={}, id='615a29c2-7d00-4a2b-8d8c-dbc899b668a1'), HumanMessage(content='What is my pet name?', additional_kwargs={}, response_metadata={}, id='aea80fe3-6c70-425c-84cb-3bf04f57d4cb'), AIMessage(content='Your pet name is Sonu.', additional_kwargs={}, response_metadata={'prompt_feedback': {'block_reason': 0, 'safety_ratings': []}, 'finish_reason': 'STOP', 'model_name': 'gemini-2.0-flash', 'safety_ratings': []}, id='run--f09a5ee2-78e3-4b50-9417-f6f093ef57a7-0', usage_metadata={'input_tokens': 84, 'output_tokens': 8, 'total_tokens': 92, 'input_token_details': {'cache_read': 0}})]\n",
      "            Summary: The AI is interacting with a user and has asked a question. The user responded by stating their pet name is Sonu, and the AI has acknowledged this and stated it will remember the information.\n",
      "            Next: ('summarize_messages',)\n",
      "            Step: 7\n",
      "            \n",
      "\n",
      "            Messages: []\n",
      "            Summary: The AI is interacting with a user and has asked a question. The user responded by stating their pet name is Sonu, and the AI has acknowledged this and stated it will remember the information. The AI then asked the user what their question was, and the user asked what their pet name was. The AI then correctly stated the user's pet name is Sonu.\n",
      "            Next: ()\n",
      "            Step: 8\n",
      "            \n"
     ]
    }
   ],
   "source": [
    "for i in graph_states[::-1]:\n",
    "    print(f'''\n",
    "            Messages: {i.values[\"messages\"]}\n",
    "            Summary: {i.values.get(\"summary\", \"\")}\n",
    "            Next: {i.next}\n",
    "            Step: {i.metadata[\"step\"]}\n",
    "            '''\n",
    "         )"
   ]
  },
  {
   "cell_type": "markdown",
   "id": "c1294130-e428-4ece-bfe9-eb72f444de2d",
   "metadata": {},
   "source": [
    "* `[::-1]` → this is Python’s way of **reversing a list**.\n",
    "\n",
    "  * `list[start:stop:step]` → and here the step is `-1`, which means \"go backwards\".\n",
    "\n",
    "So `graph_states[::-1]` gives you the list of states **in reverse order** (latest one first)."
   ]
  },
  {
   "cell_type": "markdown",
   "id": "4c677d73-4e98-4212-ab30-7137c3b1953d",
   "metadata": {},
   "source": [
    "# Long-term memory with SQLite"
   ]
  },
  {
   "cell_type": "markdown",
   "id": "32665ba6-6beb-430c-93d9-22fa3c6ff898",
   "metadata": {},
   "source": [
    "If you want long-term memory in LangGraph, instead of using an in-memory saver (which disappears when the program ends), you can use a persistent checkpointer like SQLite. That way, the graph’s state and snapshots are stored on disk and can be recalled across sessions."
   ]
  },
  {
   "cell_type": "code",
   "execution_count": null,
   "id": "2e0317b0-d85c-4bf5-ab2a-d95240ebe5ea",
   "metadata": {},
   "outputs": [],
   "source": [
    "db_path = \"C:/Users/Suraj S G/Desktop/LangGraph_DB/langgraph.db\"\n",
    "con = sqlite3.connect(database = db_path, check_same_thread = False)"
   ]
  },
  {
   "cell_type": "code",
   "execution_count": null,
   "id": "4fc8ef9c-c170-4a7d-b1b9-96d24624678d",
   "metadata": {},
   "outputs": [],
   "source": [
    "checkpointer = SqliteSaver(con)\n",
    "graph_compiled = graph.compile(checkpointer)"
   ]
  },
  {
   "cell_type": "code",
   "execution_count": null,
   "id": "d5bc3df3-0b84-4849-a3d8-3925cf59e3c3",
   "metadata": {},
   "outputs": [],
   "source": [
    "config1 = {\"configurable\": {\"thread_id\": \"1\"}}"
   ]
  },
  {
   "cell_type": "code",
   "execution_count": null,
   "id": "ca6c190b-08bf-4d5b-8b5e-b4731f3fdd1d",
   "metadata": {},
   "outputs": [],
   "source": [
    "graph_compiled.invoke(State(), config1)"
   ]
  }
 ],
 "metadata": {
  "kernelspec": {
   "display_name": "Python (llms_course_env)",
   "language": "python",
   "name": "llms_course_env"
  },
  "language_info": {
   "codemirror_mode": {
    "name": "ipython",
    "version": 3
   },
   "file_extension": ".py",
   "mimetype": "text/x-python",
   "name": "python",
   "nbconvert_exporter": "python",
   "pygments_lexer": "ipython3",
   "version": "3.11.13"
  }
 },
 "nbformat": 4,
 "nbformat_minor": 5
}
