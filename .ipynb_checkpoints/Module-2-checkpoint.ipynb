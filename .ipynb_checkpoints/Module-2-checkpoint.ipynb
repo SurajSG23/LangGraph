{
 "cells": [
  {
   "cell_type": "markdown",
   "id": "e67f3ccc-63ef-449e-975d-9de45fa92cb3",
   "metadata": {},
   "source": [
    "# The Annotated Construct and Reducer Functions"
   ]
  },
  {
   "cell_type": "code",
   "execution_count": 31,
   "id": "e47afec3-3bf5-4188-9091-72845dae949a",
   "metadata": {},
   "outputs": [],
   "source": [
    "from langgraph.graph import START, END, StateGraph, add_messages, MessagesState\n",
    "from typing_extensions import TypedDict\n",
    "from langchain_openai.chat_models import ChatOpenAI\n",
    "from langchain_core.messages import AIMessage, HumanMessage, BaseMessage\n",
    "from collections.abc import Sequence\n",
    "from typing import Literal, Annotated\n",
    "from langchain_google_genai import ChatGoogleGenerativeAI\n",
    "import config"
   ]
  },
  {
   "cell_type": "code",
   "execution_count": 3,
   "id": "70c85ef3-04db-4c40-9de1-07622643d249",
   "metadata": {},
   "outputs": [],
   "source": [
    "my_list = add_messages([HumanMessage(\"Hi! I'm Oscar.\"), \n",
    "                        AIMessage(\"Hey, Oscar. How can I assist you?\")],\n",
    "                       [HumanMessage(\"Could you summarize today's news?\")])"
   ]
  },
  {
   "cell_type": "code",
   "execution_count": 4,
   "id": "f1cfe698-bd56-4326-878f-c320e8899e70",
   "metadata": {},
   "outputs": [
    {
     "data": {
      "text/plain": [
       "[HumanMessage(content=\"Hi! I'm Oscar.\", additional_kwargs={}, response_metadata={}, id='0d3bea0b-8cf6-4a6a-9cd8-7a81ee821c48'),\n",
       " AIMessage(content='Hey, Oscar. How can I assist you?', additional_kwargs={}, response_metadata={}, id='b9285fba-185f-4342-8cb1-1911a75abec3'),\n",
       " HumanMessage(content=\"Could you summarize today's news?\", additional_kwargs={}, response_metadata={}, id='c790bddb-e900-4294-820b-9d0fb3ecfa3b')]"
      ]
     },
     "execution_count": 4,
     "metadata": {},
     "output_type": "execute_result"
    }
   ],
   "source": [
    "my_list"
   ]
  },
  {
   "cell_type": "code",
   "execution_count": 11,
   "id": "68c5a77d-9508-4683-b4fe-c17baf1be9b3",
   "metadata": {},
   "outputs": [],
   "source": [
    "# Define the State (Annotated)\n",
    "class State(TypedDict):\n",
    "    messages: Annotated[Sequence[BaseMessage], add_messages]"
   ]
  },
  {
   "cell_type": "markdown",
   "id": "43672793-ce43-4188-b22f-899c4127311a",
   "metadata": {},
   "source": [
    "1. **`class State(TypedDict):`**\n",
    "\n",
    "   * This defines a **dictionary-like structure** (a `TypedDict` is just a special dictionary where you can specify what keys and value types are allowed).\n",
    "   * So, `State` is like a \"template\" for a dictionary.\n",
    "\n",
    "2. **`messages: ...`**\n",
    "\n",
    "   * This means the dictionary must have a key called `\"messages\"`.\n",
    "\n",
    "3. **`Sequence[BaseMessage]`**\n",
    "\n",
    "   * The value of `\"messages\"` should be a list (or something like a list) containing objects of type `BaseMessage`.\n",
    "\n",
    "4. **`Annotated[..., add_messages]`**\n",
    "\n",
    "   * `Annotated` adds extra info (metadata).\n",
    "   * Here, it says `\"messages\"` isn’t just any list of `BaseMessage`, but it has some special behavior defined by `add_messages`.\n",
    "   * Think of it like a **tag or note** attached to that field.\n",
    "\n",
    "---"
   ]
  },
  {
   "cell_type": "code",
   "execution_count": 9,
   "id": "d357394f-e024-4031-a634-72fe67c2d40d",
   "metadata": {},
   "outputs": [],
   "source": [
    "llm = ChatGoogleGenerativeAI(\n",
    "    model=\"gemini-2.0-flash\",\n",
    "    google_api_key=config.gemini_api_key,\n",
    "    temperature=0,\n",
    "    max_tokens=250,\n",
    "    model_kwargs={\"seed\": 42}\n",
    ")"
   ]
  },
  {
   "cell_type": "code",
   "execution_count": 10,
   "id": "59a26733-e80a-41d7-bc0a-8a1ab4756fd0",
   "metadata": {},
   "outputs": [],
   "source": [
    "def AskGeminiAI(question):\n",
    "    response = llm.invoke(question)\n",
    "    return response"
   ]
  },
  {
   "cell_type": "code",
   "execution_count": 12,
   "id": "d9865b72-d879-4d6a-8222-ba0b44360afa",
   "metadata": {},
   "outputs": [],
   "source": [
    "# Ask Question Node\n",
    "def ask_question(state: State) -> State:\n",
    "    \n",
    "    print(f\"\\n-------> ENTERING ask_question:\")\n",
    "    for i in state[\"messages\"]:\n",
    "        i.pretty_print()\n",
    "    \n",
    "    question = \"What is your question?\"\n",
    "    print(question)\n",
    "    \n",
    "    return State(messages = [AIMessage(question), HumanMessage(input())])"
   ]
  },
  {
   "cell_type": "code",
   "execution_count": 24,
   "id": "6d124977-c50e-450c-ad66-4da0364c36ef",
   "metadata": {},
   "outputs": [],
   "source": [
    "# Chatbot Node\n",
    "def chatbot(state: State) -> State:\n",
    "    \n",
    "    print(f\"\\n-------> ENTERING chatbot:\")\n",
    "    for i in state[\"messages\"]:\n",
    "        i.pretty_print()\n",
    "    \n",
    "    response = AskGeminiAI(state[\"messages\"])\n",
    "    response.pretty_print()\n",
    "    \n",
    "    return State(messages = [response])"
   ]
  },
  {
   "cell_type": "code",
   "execution_count": 14,
   "id": "8d496c5e-5595-4eb1-8193-4485ff91d04f",
   "metadata": {},
   "outputs": [],
   "source": [
    "# Ask Another Question Node\n",
    "def ask_another_question(state: State) -> State:\n",
    "    \n",
    "    print(f\"\\n-------> ENTERING ask_another_question:\")\n",
    "    for i in state[\"messages\"]:\n",
    "        i.pretty_print()\n",
    "    \n",
    "    question = \"Would you like to ask one more question (yes/no)?\"\n",
    "    print(question)\n",
    "    \n",
    "    return State(messages = [AIMessage(question), HumanMessage(input())])"
   ]
  },
  {
   "cell_type": "code",
   "execution_count": 15,
   "id": "e2327e37-0ae0-4b02-8ef0-80ba2d9b065c",
   "metadata": {},
   "outputs": [],
   "source": [
    "def routing_function(state: State) -> Literal[\"ask_question\", \"__end__\"]:\n",
    "    \n",
    "    if state[\"messages\"][-1].content == \"yes\":\n",
    "        return \"ask_question\"\n",
    "    else:\n",
    "        return \"__end__\""
   ]
  },
  {
   "cell_type": "markdown",
   "id": "d544c232-00cb-4b6c-bfdf-7f1a28024d64",
   "metadata": {},
   "source": [
    "# Defining a Graph"
   ]
  },
  {
   "cell_type": "code",
   "execution_count": 26,
   "id": "5d5dcf33-bb6a-4456-9254-55b5eb671c80",
   "metadata": {},
   "outputs": [],
   "source": [
    "graph = StateGraph(State)"
   ]
  },
  {
   "cell_type": "code",
   "execution_count": 27,
   "id": "25fd116e-0477-42be-ab16-43621931e470",
   "metadata": {},
   "outputs": [
    {
     "data": {
      "text/plain": [
       "<langgraph.graph.state.StateGraph at 0x1bb134007d0>"
      ]
     },
     "execution_count": 27,
     "metadata": {},
     "output_type": "execute_result"
    }
   ],
   "source": [
    "graph.add_node(\"ask_question\", ask_question)\n",
    "graph.add_node(\"chatbot\", chatbot)\n",
    "graph.add_node(\"ask_another_question\", ask_another_question)\n",
    "\n",
    "graph.add_edge(START, \"ask_question\")\n",
    "graph.add_edge(\"ask_question\", \"chatbot\")\n",
    "graph.add_edge(\"chatbot\", \"ask_another_question\")\n",
    "graph.add_conditional_edges(source = \"ask_another_question\", \n",
    "                            path = routing_function)"
   ]
  },
  {
   "cell_type": "code",
   "execution_count": 28,
   "id": "32389faf-6e5f-45a3-92a5-00adc5a2640b",
   "metadata": {},
   "outputs": [],
   "source": [
    "graph_compiled = graph.compile()"
   ]
  },
  {
   "cell_type": "code",
   "execution_count": 29,
   "id": "139b13ca-88b4-43fa-b4f6-9134fb65d07d",
   "metadata": {},
   "outputs": [
    {
     "name": "stdout",
     "output_type": "stream",
     "text": [
      "          +-----------+       \n",
      "          | __start__ |       \n",
      "          +-----------+       \n",
      "                 *            \n",
      "                 *            \n",
      "                 *            \n",
      "         +--------------+     \n",
      "         | ask_question |     \n",
      "         +--------------+     \n",
      "          ***         ..      \n",
      "         *              ..    \n",
      "       **                 ..  \n",
      "+---------+                 . \n",
      "| chatbot |               ..  \n",
      "+---------+             ..    \n",
      "          ***         ..      \n",
      "             *      ..        \n",
      "              **   .          \n",
      "     +----------------------+ \n",
      "     | ask_another_question | \n",
      "     +----------------------+ \n",
      "                 .            \n",
      "                 .            \n",
      "                 .            \n",
      "            +---------+       \n",
      "            | __end__ |       \n",
      "            +---------+       \n"
     ]
    }
   ],
   "source": [
    "print(graph_compiled.get_graph().draw_ascii())"
   ]
  },
  {
   "cell_type": "code",
   "execution_count": 30,
   "id": "f79cefff-f17b-45e1-bafa-8727ea339fcf",
   "metadata": {},
   "outputs": [
    {
     "name": "stdout",
     "output_type": "stream",
     "text": [
      "\n",
      "-------> ENTERING ask_question:\n",
      "What is your question?\n"
     ]
    },
    {
     "name": "stdin",
     "output_type": "stream",
     "text": [
      " Who is luffy?\n"
     ]
    },
    {
     "name": "stdout",
     "output_type": "stream",
     "text": [
      "\n",
      "-------> ENTERING chatbot:\n",
      "==================================\u001b[1m Ai Message \u001b[0m==================================\n",
      "\n",
      "What is your question?\n",
      "================================\u001b[1m Human Message \u001b[0m=================================\n",
      "\n",
      "Who is luffy?\n",
      "==================================\u001b[1m Ai Message \u001b[0m==================================\n",
      "\n",
      "Monkey D. Luffy, often referred to as just Luffy, is the main protagonist of the popular manga and anime series *One Piece*. He's a young pirate with the dream of becoming the King of the Pirates.\n",
      "\n",
      "Here's a breakdown of who he is:\n",
      "\n",
      "*   **Appearance:** Luffy is known for his signature straw hat (given to him by the legendary pirate Shanks), his black hair, and a scar under his left eye.\n",
      "\n",
      "*   **Personality:** He's cheerful, optimistic, and incredibly loyal to his friends. He's also known for his insatiable appetite and his simple-minded, yet surprisingly insightful, nature.\n",
      "\n",
      "*   **Abilities:** Luffy ate the Gum-Gum Fruit (Gomu Gomu no Mi), a Paramecia-type Devil Fruit, which turned his body into rubber. He uses this ability to stretch and contort his body in various ways, making him a formidable fighter. He's also developed advanced techniques using his Devil Fruit powers, such as Gear Second, Gear Third, and Gear Fourth. He has also unlocked Gear Fifth, which is his most powerful form.\n",
      "\n",
      "*   **Crew:** He's the captain of the Straw Hat Pirates, a crew\n",
      "\n",
      "-------> ENTERING ask_another_question:\n",
      "==================================\u001b[1m Ai Message \u001b[0m==================================\n",
      "\n",
      "What is your question?\n",
      "================================\u001b[1m Human Message \u001b[0m=================================\n",
      "\n",
      "Who is luffy?\n",
      "==================================\u001b[1m Ai Message \u001b[0m==================================\n",
      "\n",
      "Monkey D. Luffy, often referred to as just Luffy, is the main protagonist of the popular manga and anime series *One Piece*. He's a young pirate with the dream of becoming the King of the Pirates.\n",
      "\n",
      "Here's a breakdown of who he is:\n",
      "\n",
      "*   **Appearance:** Luffy is known for his signature straw hat (given to him by the legendary pirate Shanks), his black hair, and a scar under his left eye.\n",
      "\n",
      "*   **Personality:** He's cheerful, optimistic, and incredibly loyal to his friends. He's also known for his insatiable appetite and his simple-minded, yet surprisingly insightful, nature.\n",
      "\n",
      "*   **Abilities:** Luffy ate the Gum-Gum Fruit (Gomu Gomu no Mi), a Paramecia-type Devil Fruit, which turned his body into rubber. He uses this ability to stretch and contort his body in various ways, making him a formidable fighter. He's also developed advanced techniques using his Devil Fruit powers, such as Gear Second, Gear Third, and Gear Fourth. He has also unlocked Gear Fifth, which is his most powerful form.\n",
      "\n",
      "*   **Crew:** He's the captain of the Straw Hat Pirates, a crew\n",
      "Would you like to ask one more question (yes/no)?\n"
     ]
    },
    {
     "name": "stdin",
     "output_type": "stream",
     "text": [
      " yes\n"
     ]
    },
    {
     "name": "stdout",
     "output_type": "stream",
     "text": [
      "\n",
      "-------> ENTERING ask_question:\n",
      "==================================\u001b[1m Ai Message \u001b[0m==================================\n",
      "\n",
      "What is your question?\n",
      "================================\u001b[1m Human Message \u001b[0m=================================\n",
      "\n",
      "Who is luffy?\n",
      "==================================\u001b[1m Ai Message \u001b[0m==================================\n",
      "\n",
      "Monkey D. Luffy, often referred to as just Luffy, is the main protagonist of the popular manga and anime series *One Piece*. He's a young pirate with the dream of becoming the King of the Pirates.\n",
      "\n",
      "Here's a breakdown of who he is:\n",
      "\n",
      "*   **Appearance:** Luffy is known for his signature straw hat (given to him by the legendary pirate Shanks), his black hair, and a scar under his left eye.\n",
      "\n",
      "*   **Personality:** He's cheerful, optimistic, and incredibly loyal to his friends. He's also known for his insatiable appetite and his simple-minded, yet surprisingly insightful, nature.\n",
      "\n",
      "*   **Abilities:** Luffy ate the Gum-Gum Fruit (Gomu Gomu no Mi), a Paramecia-type Devil Fruit, which turned his body into rubber. He uses this ability to stretch and contort his body in various ways, making him a formidable fighter. He's also developed advanced techniques using his Devil Fruit powers, such as Gear Second, Gear Third, and Gear Fourth. He has also unlocked Gear Fifth, which is his most powerful form.\n",
      "\n",
      "*   **Crew:** He's the captain of the Straw Hat Pirates, a crew\n",
      "==================================\u001b[1m Ai Message \u001b[0m==================================\n",
      "\n",
      "Would you like to ask one more question (yes/no)?\n",
      "================================\u001b[1m Human Message \u001b[0m=================================\n",
      "\n",
      "yes\n",
      "What is your question?\n"
     ]
    },
    {
     "name": "stdin",
     "output_type": "stream",
     "text": [
      " who is his father?\n"
     ]
    },
    {
     "name": "stdout",
     "output_type": "stream",
     "text": [
      "\n",
      "-------> ENTERING chatbot:\n",
      "==================================\u001b[1m Ai Message \u001b[0m==================================\n",
      "\n",
      "What is your question?\n",
      "================================\u001b[1m Human Message \u001b[0m=================================\n",
      "\n",
      "Who is luffy?\n",
      "==================================\u001b[1m Ai Message \u001b[0m==================================\n",
      "\n",
      "Monkey D. Luffy, often referred to as just Luffy, is the main protagonist of the popular manga and anime series *One Piece*. He's a young pirate with the dream of becoming the King of the Pirates.\n",
      "\n",
      "Here's a breakdown of who he is:\n",
      "\n",
      "*   **Appearance:** Luffy is known for his signature straw hat (given to him by the legendary pirate Shanks), his black hair, and a scar under his left eye.\n",
      "\n",
      "*   **Personality:** He's cheerful, optimistic, and incredibly loyal to his friends. He's also known for his insatiable appetite and his simple-minded, yet surprisingly insightful, nature.\n",
      "\n",
      "*   **Abilities:** Luffy ate the Gum-Gum Fruit (Gomu Gomu no Mi), a Paramecia-type Devil Fruit, which turned his body into rubber. He uses this ability to stretch and contort his body in various ways, making him a formidable fighter. He's also developed advanced techniques using his Devil Fruit powers, such as Gear Second, Gear Third, and Gear Fourth. He has also unlocked Gear Fifth, which is his most powerful form.\n",
      "\n",
      "*   **Crew:** He's the captain of the Straw Hat Pirates, a crew\n",
      "==================================\u001b[1m Ai Message \u001b[0m==================================\n",
      "\n",
      "Would you like to ask one more question (yes/no)?\n",
      "================================\u001b[1m Human Message \u001b[0m=================================\n",
      "\n",
      "yes\n",
      "==================================\u001b[1m Ai Message \u001b[0m==================================\n",
      "\n",
      "What is your question?\n",
      "================================\u001b[1m Human Message \u001b[0m=================================\n",
      "\n",
      "who is his father?\n",
      "==================================\u001b[1m Ai Message \u001b[0m==================================\n",
      "\n",
      "Luffy's father is **Monkey D. Dragon**.\n",
      "\n",
      "He is the Supreme Commander of the Revolutionary Army, a powerful organization dedicated to overthrowing the World Government. He is considered the World Government's most wanted man and a major threat to their power.\n",
      "\n",
      "So, Luffy's father is a very influential and dangerous figure in the world of *One Piece*, though Luffy himself wasn't raised by him and doesn't have a close relationship with him.\n",
      "\n",
      "-------> ENTERING ask_another_question:\n",
      "==================================\u001b[1m Ai Message \u001b[0m==================================\n",
      "\n",
      "What is your question?\n",
      "================================\u001b[1m Human Message \u001b[0m=================================\n",
      "\n",
      "Who is luffy?\n",
      "==================================\u001b[1m Ai Message \u001b[0m==================================\n",
      "\n",
      "Monkey D. Luffy, often referred to as just Luffy, is the main protagonist of the popular manga and anime series *One Piece*. He's a young pirate with the dream of becoming the King of the Pirates.\n",
      "\n",
      "Here's a breakdown of who he is:\n",
      "\n",
      "*   **Appearance:** Luffy is known for his signature straw hat (given to him by the legendary pirate Shanks), his black hair, and a scar under his left eye.\n",
      "\n",
      "*   **Personality:** He's cheerful, optimistic, and incredibly loyal to his friends. He's also known for his insatiable appetite and his simple-minded, yet surprisingly insightful, nature.\n",
      "\n",
      "*   **Abilities:** Luffy ate the Gum-Gum Fruit (Gomu Gomu no Mi), a Paramecia-type Devil Fruit, which turned his body into rubber. He uses this ability to stretch and contort his body in various ways, making him a formidable fighter. He's also developed advanced techniques using his Devil Fruit powers, such as Gear Second, Gear Third, and Gear Fourth. He has also unlocked Gear Fifth, which is his most powerful form.\n",
      "\n",
      "*   **Crew:** He's the captain of the Straw Hat Pirates, a crew\n",
      "==================================\u001b[1m Ai Message \u001b[0m==================================\n",
      "\n",
      "Would you like to ask one more question (yes/no)?\n",
      "================================\u001b[1m Human Message \u001b[0m=================================\n",
      "\n",
      "yes\n",
      "==================================\u001b[1m Ai Message \u001b[0m==================================\n",
      "\n",
      "What is your question?\n",
      "================================\u001b[1m Human Message \u001b[0m=================================\n",
      "\n",
      "who is his father?\n",
      "==================================\u001b[1m Ai Message \u001b[0m==================================\n",
      "\n",
      "Luffy's father is **Monkey D. Dragon**.\n",
      "\n",
      "He is the Supreme Commander of the Revolutionary Army, a powerful organization dedicated to overthrowing the World Government. He is considered the World Government's most wanted man and a major threat to their power.\n",
      "\n",
      "So, Luffy's father is a very influential and dangerous figure in the world of *One Piece*, though Luffy himself wasn't raised by him and doesn't have a close relationship with him.\n",
      "Would you like to ask one more question (yes/no)?\n"
     ]
    },
    {
     "name": "stdin",
     "output_type": "stream",
     "text": [
      " No\n"
     ]
    },
    {
     "data": {
      "text/plain": [
       "{'messages': [AIMessage(content='What is your question?', additional_kwargs={}, response_metadata={}, id='04ba7df3-0905-493c-9a63-2247e6bbd541'),\n",
       "  HumanMessage(content='Who is luffy?', additional_kwargs={}, response_metadata={}, id='6eecdb97-a114-4c59-8e3d-d19de0b36909'),\n",
       "  AIMessage(content=\"Monkey D. Luffy, often referred to as just Luffy, is the main protagonist of the popular manga and anime series *One Piece*. He's a young pirate with the dream of becoming the King of the Pirates.\\n\\nHere's a breakdown of who he is:\\n\\n*   **Appearance:** Luffy is known for his signature straw hat (given to him by the legendary pirate Shanks), his black hair, and a scar under his left eye.\\n\\n*   **Personality:** He's cheerful, optimistic, and incredibly loyal to his friends. He's also known for his insatiable appetite and his simple-minded, yet surprisingly insightful, nature.\\n\\n*   **Abilities:** Luffy ate the Gum-Gum Fruit (Gomu Gomu no Mi), a Paramecia-type Devil Fruit, which turned his body into rubber. He uses this ability to stretch and contort his body in various ways, making him a formidable fighter. He's also developed advanced techniques using his Devil Fruit powers, such as Gear Second, Gear Third, and Gear Fourth. He has also unlocked Gear Fifth, which is his most powerful form.\\n\\n*   **Crew:** He's the captain of the Straw Hat Pirates, a crew\", additional_kwargs={}, response_metadata={'prompt_feedback': {'block_reason': 0, 'safety_ratings': []}, 'finish_reason': 'MAX_TOKENS', 'model_name': 'gemini-2.0-flash', 'safety_ratings': []}, id='run--2dd8b373-44f2-4e2b-ac8b-2715735a9eca-0', usage_metadata={'input_tokens': 9, 'output_tokens': 247, 'total_tokens': 256, 'input_token_details': {'cache_read': 0}}),\n",
       "  AIMessage(content='Would you like to ask one more question (yes/no)?', additional_kwargs={}, response_metadata={}, id='3a54e6c2-ec57-4de8-a647-96d3d10940fd'),\n",
       "  HumanMessage(content='yes', additional_kwargs={}, response_metadata={}, id='4112591a-f97c-4c8d-a4e9-63b203d21e20'),\n",
       "  AIMessage(content='What is your question?', additional_kwargs={}, response_metadata={}, id='5b801ecc-f1cf-4745-9fc8-3e2fdb87d78a'),\n",
       "  HumanMessage(content='who is his father?', additional_kwargs={}, response_metadata={}, id='9e13beec-b393-4208-a981-255894ad45c8'),\n",
       "  AIMessage(content=\"Luffy's father is **Monkey D. Dragon**.\\n\\nHe is the Supreme Commander of the Revolutionary Army, a powerful organization dedicated to overthrowing the World Government. He is considered the World Government's most wanted man and a major threat to their power.\\n\\nSo, Luffy's father is a very influential and dangerous figure in the world of *One Piece*, though Luffy himself wasn't raised by him and doesn't have a close relationship with him.\", additional_kwargs={}, response_metadata={'prompt_feedback': {'block_reason': 0, 'safety_ratings': []}, 'finish_reason': 'STOP', 'model_name': 'gemini-2.0-flash', 'safety_ratings': []}, id='run--31779c08-6e83-4ae0-b8d7-9cf8fe3986ab-0', usage_metadata={'input_tokens': 280, 'output_tokens': 95, 'total_tokens': 375, 'input_token_details': {'cache_read': 0}}),\n",
       "  AIMessage(content='Would you like to ask one more question (yes/no)?', additional_kwargs={}, response_metadata={}, id='a642d54e-2fac-4d32-8fe1-dcd04a5f6f5b'),\n",
       "  HumanMessage(content='No', additional_kwargs={}, response_metadata={}, id='b0e2e09e-ec84-42ae-95ab-1621c80df607')]}"
      ]
     },
     "execution_count": 30,
     "metadata": {},
     "output_type": "execute_result"
    }
   ],
   "source": [
    "graph_compiled.invoke(State(messages = []))"
   ]
  },
  {
   "cell_type": "markdown",
   "id": "34401250-c1d8-4af7-a655-037aeda269ec",
   "metadata": {},
   "source": [
    "# The MessagesState class"
   ]
  },
  {
   "cell_type": "code",
   "execution_count": 32,
   "id": "385615fd-ca37-4799-a2db-bf86588702d3",
   "metadata": {},
   "outputs": [],
   "source": [
    "def ask_question(state: MessagesState) -> MessagesState:\n",
    "    \n",
    "    print(f\"\\n-------> ENTERING ask_question:\")\n",
    "    for i in state[\"messages\"]:\n",
    "        i.pretty_print()\n",
    "    \n",
    "    question = \"What is your question?\"\n",
    "    print(question)\n",
    "    \n",
    "    return MessagesState(messages = [AIMessage(question), HumanMessage(input())])"
   ]
  },
  {
   "cell_type": "code",
   "execution_count": 33,
   "id": "7069e950-52f0-451f-b9d8-a3b8fa3f9f07",
   "metadata": {},
   "outputs": [],
   "source": [
    "def chatbot(state: MessagesState) -> MessagesState:\n",
    "    \n",
    "    print(f\"\\n-------> ENTERING chatbot:\")\n",
    "    for i in state[\"messages\"]:\n",
    "        i.pretty_print()\n",
    "    \n",
    "    response = AskGeminiAI(state[\"messages\"])\n",
    "    response.pretty_print()\n",
    "    \n",
    "    return MessagesState(messages = [response])"
   ]
  },
  {
   "cell_type": "code",
   "execution_count": 34,
   "id": "b7be87a8-7cc2-4195-ae70-7e26774c8ced",
   "metadata": {},
   "outputs": [],
   "source": [
    "def ask_another_question(state: MessagesState) -> MessagesState:\n",
    "    \n",
    "    print(f\"\\n-------> ENTERING ask_another_question:\")\n",
    "    for i in state[\"messages\"]:\n",
    "        i.pretty_print()\n",
    "    \n",
    "    question = \"Would you like to ask one more question (yes/no)?\"\n",
    "    print(question)\n",
    "    \n",
    "    return MessagesState(messages = [AIMessage(question), HumanMessage(input())])"
   ]
  },
  {
   "cell_type": "code",
   "execution_count": 35,
   "id": "eb1ab896-cfc7-4426-912a-bd3526264823",
   "metadata": {},
   "outputs": [],
   "source": [
    "graph = StateGraph(MessagesState)"
   ]
  },
  {
   "cell_type": "code",
   "execution_count": 36,
   "id": "037c3607-bb6a-4240-9bb7-45a44a4e194b",
   "metadata": {},
   "outputs": [
    {
     "data": {
      "text/plain": [
       "<langgraph.graph.state.StateGraph at 0x1bb16185b10>"
      ]
     },
     "execution_count": 36,
     "metadata": {},
     "output_type": "execute_result"
    }
   ],
   "source": [
    "graph.add_node(\"ask_question\", ask_question)\n",
    "graph.add_node(\"chatbot\", chatbot)\n",
    "graph.add_node(\"ask_another_question\", ask_another_question)\n",
    "\n",
    "graph.add_edge(START, \"ask_question\")\n",
    "graph.add_edge(\"ask_question\", \"chatbot\")\n",
    "graph.add_edge(\"chatbot\", \"ask_another_question\")\n",
    "graph.add_conditional_edges(source = \"ask_another_question\", \n",
    "                            path = routing_function)"
   ]
  },
  {
   "cell_type": "code",
   "execution_count": 37,
   "id": "b9e5c8a7-f4cc-4771-8def-78c914a77b32",
   "metadata": {},
   "outputs": [],
   "source": [
    "graph_compiled = graph.compile()"
   ]
  },
  {
   "cell_type": "code",
   "execution_count": 38,
   "id": "2c269a84-aef8-447a-801d-7a91724a2622",
   "metadata": {},
   "outputs": [
    {
     "name": "stdout",
     "output_type": "stream",
     "text": [
      "\n",
      "-------> ENTERING ask_question:\n",
      "What is your question?\n"
     ]
    },
    {
     "name": "stdin",
     "output_type": "stream",
     "text": [
      " Which is the first pokemon Ash caught?\n"
     ]
    },
    {
     "name": "stdout",
     "output_type": "stream",
     "text": [
      "\n",
      "-------> ENTERING chatbot:\n",
      "==================================\u001b[1m Ai Message \u001b[0m==================================\n",
      "\n",
      "What is your question?\n",
      "================================\u001b[1m Human Message \u001b[0m=================================\n",
      "\n",
      "Which is the first pokemon Ash caught?\n",
      "==================================\u001b[1m Ai Message \u001b[0m==================================\n",
      "\n",
      "The first Pokémon Ash caught was **Caterpie**.\n",
      "\n",
      "-------> ENTERING ask_another_question:\n",
      "==================================\u001b[1m Ai Message \u001b[0m==================================\n",
      "\n",
      "What is your question?\n",
      "================================\u001b[1m Human Message \u001b[0m=================================\n",
      "\n",
      "Which is the first pokemon Ash caught?\n",
      "==================================\u001b[1m Ai Message \u001b[0m==================================\n",
      "\n",
      "The first Pokémon Ash caught was **Caterpie**.\n",
      "Would you like to ask one more question (yes/no)?\n"
     ]
    },
    {
     "name": "stdin",
     "output_type": "stream",
     "text": [
      " yes\n"
     ]
    },
    {
     "name": "stdout",
     "output_type": "stream",
     "text": [
      "\n",
      "-------> ENTERING ask_question:\n",
      "==================================\u001b[1m Ai Message \u001b[0m==================================\n",
      "\n",
      "What is your question?\n",
      "================================\u001b[1m Human Message \u001b[0m=================================\n",
      "\n",
      "Which is the first pokemon Ash caught?\n",
      "==================================\u001b[1m Ai Message \u001b[0m==================================\n",
      "\n",
      "The first Pokémon Ash caught was **Caterpie**.\n",
      "==================================\u001b[1m Ai Message \u001b[0m==================================\n",
      "\n",
      "Would you like to ask one more question (yes/no)?\n",
      "================================\u001b[1m Human Message \u001b[0m=================================\n",
      "\n",
      "yes\n",
      "What is your question?\n"
     ]
    },
    {
     "name": "stdin",
     "output_type": "stream",
     "text": [
      " What type is that?\n"
     ]
    },
    {
     "name": "stdout",
     "output_type": "stream",
     "text": [
      "\n",
      "-------> ENTERING chatbot:\n",
      "==================================\u001b[1m Ai Message \u001b[0m==================================\n",
      "\n",
      "What is your question?\n",
      "================================\u001b[1m Human Message \u001b[0m=================================\n",
      "\n",
      "Which is the first pokemon Ash caught?\n",
      "==================================\u001b[1m Ai Message \u001b[0m==================================\n",
      "\n",
      "The first Pokémon Ash caught was **Caterpie**.\n",
      "==================================\u001b[1m Ai Message \u001b[0m==================================\n",
      "\n",
      "Would you like to ask one more question (yes/no)?\n",
      "================================\u001b[1m Human Message \u001b[0m=================================\n",
      "\n",
      "yes\n",
      "==================================\u001b[1m Ai Message \u001b[0m==================================\n",
      "\n",
      "What is your question?\n",
      "================================\u001b[1m Human Message \u001b[0m=================================\n",
      "\n",
      "What type is that?\n",
      "==================================\u001b[1m Ai Message \u001b[0m==================================\n",
      "\n",
      "Caterpie is a **Bug** type Pokémon.\n",
      "\n",
      "-------> ENTERING ask_another_question:\n",
      "==================================\u001b[1m Ai Message \u001b[0m==================================\n",
      "\n",
      "What is your question?\n",
      "================================\u001b[1m Human Message \u001b[0m=================================\n",
      "\n",
      "Which is the first pokemon Ash caught?\n",
      "==================================\u001b[1m Ai Message \u001b[0m==================================\n",
      "\n",
      "The first Pokémon Ash caught was **Caterpie**.\n",
      "==================================\u001b[1m Ai Message \u001b[0m==================================\n",
      "\n",
      "Would you like to ask one more question (yes/no)?\n",
      "================================\u001b[1m Human Message \u001b[0m=================================\n",
      "\n",
      "yes\n",
      "==================================\u001b[1m Ai Message \u001b[0m==================================\n",
      "\n",
      "What is your question?\n",
      "================================\u001b[1m Human Message \u001b[0m=================================\n",
      "\n",
      "What type is that?\n",
      "==================================\u001b[1m Ai Message \u001b[0m==================================\n",
      "\n",
      "Caterpie is a **Bug** type Pokémon.\n",
      "Would you like to ask one more question (yes/no)?\n"
     ]
    },
    {
     "name": "stdin",
     "output_type": "stream",
     "text": [
      " No\n"
     ]
    },
    {
     "data": {
      "text/plain": [
       "{'messages': [AIMessage(content='What is your question?', additional_kwargs={}, response_metadata={}, id='37e2b8f7-5f80-4d97-868b-9e0201789c07'),\n",
       "  HumanMessage(content='Which is the first pokemon Ash caught?', additional_kwargs={}, response_metadata={}, id='5948e17c-a992-485c-b209-1bb864777d75'),\n",
       "  AIMessage(content='The first Pokémon Ash caught was **Caterpie**.', additional_kwargs={}, response_metadata={'prompt_feedback': {'block_reason': 0, 'safety_ratings': []}, 'finish_reason': 'STOP', 'model_name': 'gemini-2.0-flash', 'safety_ratings': []}, id='run--9536c6c3-ee37-4b39-aa73-b4ca2acd445c-0', usage_metadata={'input_tokens': 13, 'output_tokens': 11, 'total_tokens': 24, 'input_token_details': {'cache_read': 0}}),\n",
       "  AIMessage(content='Would you like to ask one more question (yes/no)?', additional_kwargs={}, response_metadata={}, id='de5e5842-baef-418f-acd4-00a0b096dcee'),\n",
       "  HumanMessage(content='yes', additional_kwargs={}, response_metadata={}, id='083e4a97-758a-4278-92a6-cea588ac16d2'),\n",
       "  AIMessage(content='What is your question?', additional_kwargs={}, response_metadata={}, id='9f421c4a-13cb-473f-9f6e-f0e1ab051f51'),\n",
       "  HumanMessage(content='What type is that?', additional_kwargs={}, response_metadata={}, id='b2b7f445-0299-4d2f-897d-702d4f2d6252'),\n",
       "  AIMessage(content='Caterpie is a **Bug** type Pokémon.', additional_kwargs={}, response_metadata={'prompt_feedback': {'block_reason': 0, 'safety_ratings': []}, 'finish_reason': 'STOP', 'model_name': 'gemini-2.0-flash', 'safety_ratings': []}, id='run--8bf2e6d2-709c-49bc-8501-262ec215109b-0', usage_metadata={'input_tokens': 47, 'output_tokens': 11, 'total_tokens': 58, 'input_token_details': {'cache_read': 0}}),\n",
       "  AIMessage(content='Would you like to ask one more question (yes/no)?', additional_kwargs={}, response_metadata={}, id='b74f816c-c8ca-43ec-a8f0-d7c4268a6428'),\n",
       "  HumanMessage(content='No', additional_kwargs={}, response_metadata={}, id='ebe2d65a-d890-4542-a960-a2a3d4517a8d')]}"
      ]
     },
     "execution_count": 38,
     "metadata": {},
     "output_type": "execute_result"
    }
   ],
   "source": [
    "graph_compiled.invoke(MessagesState(messages = []))"
   ]
  },
  {
   "cell_type": "code",
   "execution_count": null,
   "id": "7493e538-4b3a-4954-916d-fe7f23235303",
   "metadata": {},
   "outputs": [],
   "source": []
  }
 ],
 "metadata": {
  "kernelspec": {
   "display_name": "Python (llms_course_env)",
   "language": "python",
   "name": "llms_course_env"
  },
  "language_info": {
   "codemirror_mode": {
    "name": "ipython",
    "version": 3
   },
   "file_extension": ".py",
   "mimetype": "text/x-python",
   "name": "python",
   "nbconvert_exporter": "python",
   "pygments_lexer": "ipython3",
   "version": "3.11.13"
  }
 },
 "nbformat": 4,
 "nbformat_minor": 5
}
