{
 "cells": [
  {
   "cell_type": "markdown",
   "id": "e67f3ccc-63ef-449e-975d-9de45fa92cb3",
   "metadata": {},
   "source": [
    "# The Annotated Construct and Reducer Functions"
   ]
  },
  {
   "cell_type": "code",
   "execution_count": 39,
   "id": "e47afec3-3bf5-4188-9091-72845dae949a",
   "metadata": {},
   "outputs": [],
   "source": [
    "from langgraph.graph import START, END, StateGraph, add_messages, MessagesState\n",
    "from typing_extensions import TypedDict\n",
    "from langchain_openai.chat_models import ChatOpenAI\n",
    "from langchain_core.messages import AIMessage, HumanMessage, BaseMessage, RemoveMessage\n",
    "from collections.abc import Sequence\n",
    "from typing import Literal, Annotated\n",
    "from langchain_google_genai import ChatGoogleGenerativeAI\n",
    "import config"
   ]
  },
  {
   "cell_type": "code",
   "execution_count": 3,
   "id": "70c85ef3-04db-4c40-9de1-07622643d249",
   "metadata": {},
   "outputs": [],
   "source": [
    "my_list = add_messages([HumanMessage(\"Hi! I'm Oscar.\"), \n",
    "                        AIMessage(\"Hey, Oscar. How can I assist you?\")],\n",
    "                       [HumanMessage(\"Could you summarize today's news?\")])"
   ]
  },
  {
   "cell_type": "markdown",
   "id": "8278e474-bebd-4a1b-94f7-ce2a73c58ccb",
   "metadata": {},
   "source": [
    "```python\n",
    "add_messages(existing_messages, new_items)\n",
    "```\n",
    "\n",
    "* **`existing_messages`** → your current list of messages (conversation history).\n",
    "* **`new_items`** → can be:\n",
    "\n",
    "  1. A list of new messages (e.g., `AIMessage`, `HumanMessage`) → they get **added**.\n",
    "  2. A list of `RemoveMessage(id=...)` objects → those messages get **removed**.\n",
    "  3. A mix of both (add some, remove some).\n",
    "\n",
    "---"
   ]
  },
  {
   "cell_type": "code",
   "execution_count": 4,
   "id": "f1cfe698-bd56-4326-878f-c320e8899e70",
   "metadata": {},
   "outputs": [
    {
     "data": {
      "text/plain": [
       "[HumanMessage(content=\"Hi! I'm Oscar.\", additional_kwargs={}, response_metadata={}, id='0d3bea0b-8cf6-4a6a-9cd8-7a81ee821c48'),\n",
       " AIMessage(content='Hey, Oscar. How can I assist you?', additional_kwargs={}, response_metadata={}, id='b9285fba-185f-4342-8cb1-1911a75abec3'),\n",
       " HumanMessage(content=\"Could you summarize today's news?\", additional_kwargs={}, response_metadata={}, id='c790bddb-e900-4294-820b-9d0fb3ecfa3b')]"
      ]
     },
     "execution_count": 4,
     "metadata": {},
     "output_type": "execute_result"
    }
   ],
   "source": [
    "my_list"
   ]
  },
  {
   "cell_type": "code",
   "execution_count": 11,
   "id": "68c5a77d-9508-4683-b4fe-c17baf1be9b3",
   "metadata": {},
   "outputs": [],
   "source": [
    "# Define the State (Annotated)\n",
    "class State(TypedDict):\n",
    "    messages: Annotated[Sequence[BaseMessage], add_messages]"
   ]
  },
  {
   "cell_type": "markdown",
   "id": "43672793-ce43-4188-b22f-899c4127311a",
   "metadata": {},
   "source": [
    "1. **`class State(TypedDict):`**\n",
    "\n",
    "   * This defines a **dictionary-like structure** (a `TypedDict` is just a special dictionary where you can specify what keys and value types are allowed).\n",
    "   * So, `State` is like a \"template\" for a dictionary.\n",
    "\n",
    "2. **`messages: ...`**\n",
    "\n",
    "   * This means the dictionary must have a key called `\"messages\"`.\n",
    "\n",
    "3. **`Sequence[BaseMessage]`**\n",
    "\n",
    "   * The value of `\"messages\"` should be a list (or something like a list) containing objects of type `BaseMessage`.\n",
    "\n",
    "4. **`Annotated[..., add_messages]`**\n",
    "\n",
    "   * `Annotated` adds extra info (metadata).\n",
    "   * Here, it says `\"messages\"` isn’t just any list of `BaseMessage`, but it has some special behavior defined by `add_messages`.\n",
    "   * Think of it like a **tag or note** attached to that field.\n",
    "\n",
    "---"
   ]
  },
  {
   "cell_type": "code",
   "execution_count": 9,
   "id": "d357394f-e024-4031-a634-72fe67c2d40d",
   "metadata": {},
   "outputs": [],
   "source": [
    "llm = ChatGoogleGenerativeAI(\n",
    "    model=\"gemini-2.0-flash\",\n",
    "    google_api_key=config.gemini_api_key,\n",
    "    temperature=0,\n",
    "    max_tokens=250,\n",
    "    model_kwargs={\"seed\": 42}\n",
    ")"
   ]
  },
  {
   "cell_type": "code",
   "execution_count": 10,
   "id": "59a26733-e80a-41d7-bc0a-8a1ab4756fd0",
   "metadata": {},
   "outputs": [],
   "source": [
    "def AskGeminiAI(question):\n",
    "    response = llm.invoke(question)\n",
    "    return response"
   ]
  },
  {
   "cell_type": "code",
   "execution_count": 12,
   "id": "d9865b72-d879-4d6a-8222-ba0b44360afa",
   "metadata": {},
   "outputs": [],
   "source": [
    "# Ask Question Node\n",
    "def ask_question(state: State) -> State:\n",
    "    \n",
    "    print(f\"\\n-------> ENTERING ask_question:\")\n",
    "    for i in state[\"messages\"]:\n",
    "        i.pretty_print()\n",
    "    \n",
    "    question = \"What is your question?\"\n",
    "    print(question)\n",
    "    \n",
    "    return State(messages = [AIMessage(question), HumanMessage(input())])"
   ]
  },
  {
   "cell_type": "code",
   "execution_count": 24,
   "id": "6d124977-c50e-450c-ad66-4da0364c36ef",
   "metadata": {},
   "outputs": [],
   "source": [
    "# Chatbot Node\n",
    "def chatbot(state: State) -> State:\n",
    "    \n",
    "    print(f\"\\n-------> ENTERING chatbot:\")\n",
    "    for i in state[\"messages\"]:\n",
    "        i.pretty_print()\n",
    "    \n",
    "    response = AskGeminiAI(state[\"messages\"])\n",
    "    response.pretty_print()\n",
    "    \n",
    "    return State(messages = [response])"
   ]
  },
  {
   "cell_type": "code",
   "execution_count": 14,
   "id": "8d496c5e-5595-4eb1-8193-4485ff91d04f",
   "metadata": {},
   "outputs": [],
   "source": [
    "# Ask Another Question Node\n",
    "def ask_another_question(state: State) -> State:\n",
    "    \n",
    "    print(f\"\\n-------> ENTERING ask_another_question:\")\n",
    "    for i in state[\"messages\"]:\n",
    "        i.pretty_print()\n",
    "    \n",
    "    question = \"Would you like to ask one more question (yes/no)?\"\n",
    "    print(question)\n",
    "    \n",
    "    return State(messages = [AIMessage(question), HumanMessage(input())])"
   ]
  },
  {
   "cell_type": "code",
   "execution_count": 15,
   "id": "e2327e37-0ae0-4b02-8ef0-80ba2d9b065c",
   "metadata": {},
   "outputs": [],
   "source": [
    "def routing_function(state: State) -> Literal[\"ask_question\", \"__end__\"]:\n",
    "    \n",
    "    if state[\"messages\"][-1].content == \"yes\":\n",
    "        return \"ask_question\"\n",
    "    else:\n",
    "        return \"__end__\""
   ]
  },
  {
   "cell_type": "markdown",
   "id": "d544c232-00cb-4b6c-bfdf-7f1a28024d64",
   "metadata": {},
   "source": [
    "# Defining a Graph"
   ]
  },
  {
   "cell_type": "code",
   "execution_count": 26,
   "id": "5d5dcf33-bb6a-4456-9254-55b5eb671c80",
   "metadata": {},
   "outputs": [],
   "source": [
    "graph = StateGraph(State)"
   ]
  },
  {
   "cell_type": "code",
   "execution_count": 27,
   "id": "25fd116e-0477-42be-ab16-43621931e470",
   "metadata": {},
   "outputs": [
    {
     "data": {
      "text/plain": [
       "<langgraph.graph.state.StateGraph at 0x1bb134007d0>"
      ]
     },
     "execution_count": 27,
     "metadata": {},
     "output_type": "execute_result"
    }
   ],
   "source": [
    "graph.add_node(\"ask_question\", ask_question)\n",
    "graph.add_node(\"chatbot\", chatbot)\n",
    "graph.add_node(\"ask_another_question\", ask_another_question)\n",
    "\n",
    "graph.add_edge(START, \"ask_question\")\n",
    "graph.add_edge(\"ask_question\", \"chatbot\")\n",
    "graph.add_edge(\"chatbot\", \"ask_another_question\")\n",
    "graph.add_conditional_edges(source = \"ask_another_question\", \n",
    "                            path = routing_function)"
   ]
  },
  {
   "cell_type": "code",
   "execution_count": 28,
   "id": "32389faf-6e5f-45a3-92a5-00adc5a2640b",
   "metadata": {},
   "outputs": [],
   "source": [
    "graph_compiled = graph.compile()"
   ]
  },
  {
   "cell_type": "code",
   "execution_count": 29,
   "id": "139b13ca-88b4-43fa-b4f6-9134fb65d07d",
   "metadata": {},
   "outputs": [
    {
     "name": "stdout",
     "output_type": "stream",
     "text": [
      "          +-----------+       \n",
      "          | __start__ |       \n",
      "          +-----------+       \n",
      "                 *            \n",
      "                 *            \n",
      "                 *            \n",
      "         +--------------+     \n",
      "         | ask_question |     \n",
      "         +--------------+     \n",
      "          ***         ..      \n",
      "         *              ..    \n",
      "       **                 ..  \n",
      "+---------+                 . \n",
      "| chatbot |               ..  \n",
      "+---------+             ..    \n",
      "          ***         ..      \n",
      "             *      ..        \n",
      "              **   .          \n",
      "     +----------------------+ \n",
      "     | ask_another_question | \n",
      "     +----------------------+ \n",
      "                 .            \n",
      "                 .            \n",
      "                 .            \n",
      "            +---------+       \n",
      "            | __end__ |       \n",
      "            +---------+       \n"
     ]
    }
   ],
   "source": [
    "print(graph_compiled.get_graph().draw_ascii())"
   ]
  },
  {
   "cell_type": "code",
   "execution_count": 30,
   "id": "f79cefff-f17b-45e1-bafa-8727ea339fcf",
   "metadata": {},
   "outputs": [
    {
     "name": "stdout",
     "output_type": "stream",
     "text": [
      "\n",
      "-------> ENTERING ask_question:\n",
      "What is your question?\n"
     ]
    },
    {
     "name": "stdin",
     "output_type": "stream",
     "text": [
      " Who is luffy?\n"
     ]
    },
    {
     "name": "stdout",
     "output_type": "stream",
     "text": [
      "\n",
      "-------> ENTERING chatbot:\n",
      "==================================\u001b[1m Ai Message \u001b[0m==================================\n",
      "\n",
      "What is your question?\n",
      "================================\u001b[1m Human Message \u001b[0m=================================\n",
      "\n",
      "Who is luffy?\n",
      "==================================\u001b[1m Ai Message \u001b[0m==================================\n",
      "\n",
      "Monkey D. Luffy, often referred to as just Luffy, is the main protagonist of the popular manga and anime series *One Piece*. He's a young pirate with the dream of becoming the King of the Pirates.\n",
      "\n",
      "Here's a breakdown of who he is:\n",
      "\n",
      "*   **Appearance:** Luffy is known for his signature straw hat (given to him by the legendary pirate Shanks), his black hair, and a scar under his left eye.\n",
      "\n",
      "*   **Personality:** He's cheerful, optimistic, and incredibly loyal to his friends. He's also known for his insatiable appetite and his simple-minded, yet surprisingly insightful, nature.\n",
      "\n",
      "*   **Abilities:** Luffy ate the Gum-Gum Fruit (Gomu Gomu no Mi), a Paramecia-type Devil Fruit, which turned his body into rubber. He uses this ability to stretch and contort his body in various ways, making him a formidable fighter. He's also developed advanced techniques using his Devil Fruit powers, such as Gear Second, Gear Third, and Gear Fourth. He has also unlocked Gear Fifth, which is his most powerful form.\n",
      "\n",
      "*   **Crew:** He's the captain of the Straw Hat Pirates, a crew\n",
      "\n",
      "-------> ENTERING ask_another_question:\n",
      "==================================\u001b[1m Ai Message \u001b[0m==================================\n",
      "\n",
      "What is your question?\n",
      "================================\u001b[1m Human Message \u001b[0m=================================\n",
      "\n",
      "Who is luffy?\n",
      "==================================\u001b[1m Ai Message \u001b[0m==================================\n",
      "\n",
      "Monkey D. Luffy, often referred to as just Luffy, is the main protagonist of the popular manga and anime series *One Piece*. He's a young pirate with the dream of becoming the King of the Pirates.\n",
      "\n",
      "Here's a breakdown of who he is:\n",
      "\n",
      "*   **Appearance:** Luffy is known for his signature straw hat (given to him by the legendary pirate Shanks), his black hair, and a scar under his left eye.\n",
      "\n",
      "*   **Personality:** He's cheerful, optimistic, and incredibly loyal to his friends. He's also known for his insatiable appetite and his simple-minded, yet surprisingly insightful, nature.\n",
      "\n",
      "*   **Abilities:** Luffy ate the Gum-Gum Fruit (Gomu Gomu no Mi), a Paramecia-type Devil Fruit, which turned his body into rubber. He uses this ability to stretch and contort his body in various ways, making him a formidable fighter. He's also developed advanced techniques using his Devil Fruit powers, such as Gear Second, Gear Third, and Gear Fourth. He has also unlocked Gear Fifth, which is his most powerful form.\n",
      "\n",
      "*   **Crew:** He's the captain of the Straw Hat Pirates, a crew\n",
      "Would you like to ask one more question (yes/no)?\n"
     ]
    },
    {
     "name": "stdin",
     "output_type": "stream",
     "text": [
      " yes\n"
     ]
    },
    {
     "name": "stdout",
     "output_type": "stream",
     "text": [
      "\n",
      "-------> ENTERING ask_question:\n",
      "==================================\u001b[1m Ai Message \u001b[0m==================================\n",
      "\n",
      "What is your question?\n",
      "================================\u001b[1m Human Message \u001b[0m=================================\n",
      "\n",
      "Who is luffy?\n",
      "==================================\u001b[1m Ai Message \u001b[0m==================================\n",
      "\n",
      "Monkey D. Luffy, often referred to as just Luffy, is the main protagonist of the popular manga and anime series *One Piece*. He's a young pirate with the dream of becoming the King of the Pirates.\n",
      "\n",
      "Here's a breakdown of who he is:\n",
      "\n",
      "*   **Appearance:** Luffy is known for his signature straw hat (given to him by the legendary pirate Shanks), his black hair, and a scar under his left eye.\n",
      "\n",
      "*   **Personality:** He's cheerful, optimistic, and incredibly loyal to his friends. He's also known for his insatiable appetite and his simple-minded, yet surprisingly insightful, nature.\n",
      "\n",
      "*   **Abilities:** Luffy ate the Gum-Gum Fruit (Gomu Gomu no Mi), a Paramecia-type Devil Fruit, which turned his body into rubber. He uses this ability to stretch and contort his body in various ways, making him a formidable fighter. He's also developed advanced techniques using his Devil Fruit powers, such as Gear Second, Gear Third, and Gear Fourth. He has also unlocked Gear Fifth, which is his most powerful form.\n",
      "\n",
      "*   **Crew:** He's the captain of the Straw Hat Pirates, a crew\n",
      "==================================\u001b[1m Ai Message \u001b[0m==================================\n",
      "\n",
      "Would you like to ask one more question (yes/no)?\n",
      "================================\u001b[1m Human Message \u001b[0m=================================\n",
      "\n",
      "yes\n",
      "What is your question?\n"
     ]
    },
    {
     "name": "stdin",
     "output_type": "stream",
     "text": [
      " who is his father?\n"
     ]
    },
    {
     "name": "stdout",
     "output_type": "stream",
     "text": [
      "\n",
      "-------> ENTERING chatbot:\n",
      "==================================\u001b[1m Ai Message \u001b[0m==================================\n",
      "\n",
      "What is your question?\n",
      "================================\u001b[1m Human Message \u001b[0m=================================\n",
      "\n",
      "Who is luffy?\n",
      "==================================\u001b[1m Ai Message \u001b[0m==================================\n",
      "\n",
      "Monkey D. Luffy, often referred to as just Luffy, is the main protagonist of the popular manga and anime series *One Piece*. He's a young pirate with the dream of becoming the King of the Pirates.\n",
      "\n",
      "Here's a breakdown of who he is:\n",
      "\n",
      "*   **Appearance:** Luffy is known for his signature straw hat (given to him by the legendary pirate Shanks), his black hair, and a scar under his left eye.\n",
      "\n",
      "*   **Personality:** He's cheerful, optimistic, and incredibly loyal to his friends. He's also known for his insatiable appetite and his simple-minded, yet surprisingly insightful, nature.\n",
      "\n",
      "*   **Abilities:** Luffy ate the Gum-Gum Fruit (Gomu Gomu no Mi), a Paramecia-type Devil Fruit, which turned his body into rubber. He uses this ability to stretch and contort his body in various ways, making him a formidable fighter. He's also developed advanced techniques using his Devil Fruit powers, such as Gear Second, Gear Third, and Gear Fourth. He has also unlocked Gear Fifth, which is his most powerful form.\n",
      "\n",
      "*   **Crew:** He's the captain of the Straw Hat Pirates, a crew\n",
      "==================================\u001b[1m Ai Message \u001b[0m==================================\n",
      "\n",
      "Would you like to ask one more question (yes/no)?\n",
      "================================\u001b[1m Human Message \u001b[0m=================================\n",
      "\n",
      "yes\n",
      "==================================\u001b[1m Ai Message \u001b[0m==================================\n",
      "\n",
      "What is your question?\n",
      "================================\u001b[1m Human Message \u001b[0m=================================\n",
      "\n",
      "who is his father?\n",
      "==================================\u001b[1m Ai Message \u001b[0m==================================\n",
      "\n",
      "Luffy's father is **Monkey D. Dragon**.\n",
      "\n",
      "He is the Supreme Commander of the Revolutionary Army, a powerful organization dedicated to overthrowing the World Government. He is considered the World Government's most wanted man and a major threat to their power.\n",
      "\n",
      "So, Luffy's father is a very influential and dangerous figure in the world of *One Piece*, though Luffy himself wasn't raised by him and doesn't have a close relationship with him.\n",
      "\n",
      "-------> ENTERING ask_another_question:\n",
      "==================================\u001b[1m Ai Message \u001b[0m==================================\n",
      "\n",
      "What is your question?\n",
      "================================\u001b[1m Human Message \u001b[0m=================================\n",
      "\n",
      "Who is luffy?\n",
      "==================================\u001b[1m Ai Message \u001b[0m==================================\n",
      "\n",
      "Monkey D. Luffy, often referred to as just Luffy, is the main protagonist of the popular manga and anime series *One Piece*. He's a young pirate with the dream of becoming the King of the Pirates.\n",
      "\n",
      "Here's a breakdown of who he is:\n",
      "\n",
      "*   **Appearance:** Luffy is known for his signature straw hat (given to him by the legendary pirate Shanks), his black hair, and a scar under his left eye.\n",
      "\n",
      "*   **Personality:** He's cheerful, optimistic, and incredibly loyal to his friends. He's also known for his insatiable appetite and his simple-minded, yet surprisingly insightful, nature.\n",
      "\n",
      "*   **Abilities:** Luffy ate the Gum-Gum Fruit (Gomu Gomu no Mi), a Paramecia-type Devil Fruit, which turned his body into rubber. He uses this ability to stretch and contort his body in various ways, making him a formidable fighter. He's also developed advanced techniques using his Devil Fruit powers, such as Gear Second, Gear Third, and Gear Fourth. He has also unlocked Gear Fifth, which is his most powerful form.\n",
      "\n",
      "*   **Crew:** He's the captain of the Straw Hat Pirates, a crew\n",
      "==================================\u001b[1m Ai Message \u001b[0m==================================\n",
      "\n",
      "Would you like to ask one more question (yes/no)?\n",
      "================================\u001b[1m Human Message \u001b[0m=================================\n",
      "\n",
      "yes\n",
      "==================================\u001b[1m Ai Message \u001b[0m==================================\n",
      "\n",
      "What is your question?\n",
      "================================\u001b[1m Human Message \u001b[0m=================================\n",
      "\n",
      "who is his father?\n",
      "==================================\u001b[1m Ai Message \u001b[0m==================================\n",
      "\n",
      "Luffy's father is **Monkey D. Dragon**.\n",
      "\n",
      "He is the Supreme Commander of the Revolutionary Army, a powerful organization dedicated to overthrowing the World Government. He is considered the World Government's most wanted man and a major threat to their power.\n",
      "\n",
      "So, Luffy's father is a very influential and dangerous figure in the world of *One Piece*, though Luffy himself wasn't raised by him and doesn't have a close relationship with him.\n",
      "Would you like to ask one more question (yes/no)?\n"
     ]
    },
    {
     "name": "stdin",
     "output_type": "stream",
     "text": [
      " No\n"
     ]
    },
    {
     "data": {
      "text/plain": [
       "{'messages': [AIMessage(content='What is your question?', additional_kwargs={}, response_metadata={}, id='04ba7df3-0905-493c-9a63-2247e6bbd541'),\n",
       "  HumanMessage(content='Who is luffy?', additional_kwargs={}, response_metadata={}, id='6eecdb97-a114-4c59-8e3d-d19de0b36909'),\n",
       "  AIMessage(content=\"Monkey D. Luffy, often referred to as just Luffy, is the main protagonist of the popular manga and anime series *One Piece*. He's a young pirate with the dream of becoming the King of the Pirates.\\n\\nHere's a breakdown of who he is:\\n\\n*   **Appearance:** Luffy is known for his signature straw hat (given to him by the legendary pirate Shanks), his black hair, and a scar under his left eye.\\n\\n*   **Personality:** He's cheerful, optimistic, and incredibly loyal to his friends. He's also known for his insatiable appetite and his simple-minded, yet surprisingly insightful, nature.\\n\\n*   **Abilities:** Luffy ate the Gum-Gum Fruit (Gomu Gomu no Mi), a Paramecia-type Devil Fruit, which turned his body into rubber. He uses this ability to stretch and contort his body in various ways, making him a formidable fighter. He's also developed advanced techniques using his Devil Fruit powers, such as Gear Second, Gear Third, and Gear Fourth. He has also unlocked Gear Fifth, which is his most powerful form.\\n\\n*   **Crew:** He's the captain of the Straw Hat Pirates, a crew\", additional_kwargs={}, response_metadata={'prompt_feedback': {'block_reason': 0, 'safety_ratings': []}, 'finish_reason': 'MAX_TOKENS', 'model_name': 'gemini-2.0-flash', 'safety_ratings': []}, id='run--2dd8b373-44f2-4e2b-ac8b-2715735a9eca-0', usage_metadata={'input_tokens': 9, 'output_tokens': 247, 'total_tokens': 256, 'input_token_details': {'cache_read': 0}}),\n",
       "  AIMessage(content='Would you like to ask one more question (yes/no)?', additional_kwargs={}, response_metadata={}, id='3a54e6c2-ec57-4de8-a647-96d3d10940fd'),\n",
       "  HumanMessage(content='yes', additional_kwargs={}, response_metadata={}, id='4112591a-f97c-4c8d-a4e9-63b203d21e20'),\n",
       "  AIMessage(content='What is your question?', additional_kwargs={}, response_metadata={}, id='5b801ecc-f1cf-4745-9fc8-3e2fdb87d78a'),\n",
       "  HumanMessage(content='who is his father?', additional_kwargs={}, response_metadata={}, id='9e13beec-b393-4208-a981-255894ad45c8'),\n",
       "  AIMessage(content=\"Luffy's father is **Monkey D. Dragon**.\\n\\nHe is the Supreme Commander of the Revolutionary Army, a powerful organization dedicated to overthrowing the World Government. He is considered the World Government's most wanted man and a major threat to their power.\\n\\nSo, Luffy's father is a very influential and dangerous figure in the world of *One Piece*, though Luffy himself wasn't raised by him and doesn't have a close relationship with him.\", additional_kwargs={}, response_metadata={'prompt_feedback': {'block_reason': 0, 'safety_ratings': []}, 'finish_reason': 'STOP', 'model_name': 'gemini-2.0-flash', 'safety_ratings': []}, id='run--31779c08-6e83-4ae0-b8d7-9cf8fe3986ab-0', usage_metadata={'input_tokens': 280, 'output_tokens': 95, 'total_tokens': 375, 'input_token_details': {'cache_read': 0}}),\n",
       "  AIMessage(content='Would you like to ask one more question (yes/no)?', additional_kwargs={}, response_metadata={}, id='a642d54e-2fac-4d32-8fe1-dcd04a5f6f5b'),\n",
       "  HumanMessage(content='No', additional_kwargs={}, response_metadata={}, id='b0e2e09e-ec84-42ae-95ab-1621c80df607')]}"
      ]
     },
     "execution_count": 30,
     "metadata": {},
     "output_type": "execute_result"
    }
   ],
   "source": [
    "graph_compiled.invoke(State(messages = []))"
   ]
  },
  {
   "cell_type": "markdown",
   "id": "34401250-c1d8-4af7-a655-037aeda269ec",
   "metadata": {},
   "source": [
    "# The MessagesState class"
   ]
  },
  {
   "cell_type": "markdown",
   "id": "cec5d79f-dfd5-4317-9967-4538dcea5fbb",
   "metadata": {},
   "source": [
    "Without using State class but using inbuilt MessagesState"
   ]
  },
  {
   "cell_type": "code",
   "execution_count": 32,
   "id": "385615fd-ca37-4799-a2db-bf86588702d3",
   "metadata": {},
   "outputs": [],
   "source": [
    "def ask_question(state: MessagesState) -> MessagesState:\n",
    "    \n",
    "    print(f\"\\n-------> ENTERING ask_question:\")\n",
    "    for i in state[\"messages\"]:\n",
    "        i.pretty_print()\n",
    "    \n",
    "    question = \"What is your question?\"\n",
    "    print(question)\n",
    "    \n",
    "    return MessagesState(messages = [AIMessage(question), HumanMessage(input())])"
   ]
  },
  {
   "cell_type": "code",
   "execution_count": 33,
   "id": "7069e950-52f0-451f-b9d8-a3b8fa3f9f07",
   "metadata": {},
   "outputs": [],
   "source": [
    "def chatbot(state: MessagesState) -> MessagesState:\n",
    "    \n",
    "    print(f\"\\n-------> ENTERING chatbot:\")\n",
    "    for i in state[\"messages\"]:\n",
    "        i.pretty_print()\n",
    "    \n",
    "    response = AskGeminiAI(state[\"messages\"])\n",
    "    response.pretty_print()\n",
    "    \n",
    "    return MessagesState(messages = [response])"
   ]
  },
  {
   "cell_type": "code",
   "execution_count": 34,
   "id": "b7be87a8-7cc2-4195-ae70-7e26774c8ced",
   "metadata": {},
   "outputs": [],
   "source": [
    "def ask_another_question(state: MessagesState) -> MessagesState:\n",
    "    \n",
    "    print(f\"\\n-------> ENTERING ask_another_question:\")\n",
    "    for i in state[\"messages\"]:\n",
    "        i.pretty_print()\n",
    "    \n",
    "    question = \"Would you like to ask one more question (yes/no)?\"\n",
    "    print(question)\n",
    "    \n",
    "    return MessagesState(messages = [AIMessage(question), HumanMessage(input())])"
   ]
  },
  {
   "cell_type": "code",
   "execution_count": 35,
   "id": "eb1ab896-cfc7-4426-912a-bd3526264823",
   "metadata": {},
   "outputs": [],
   "source": [
    "graph = StateGraph(MessagesState)"
   ]
  },
  {
   "cell_type": "code",
   "execution_count": 36,
   "id": "037c3607-bb6a-4240-9bb7-45a44a4e194b",
   "metadata": {},
   "outputs": [
    {
     "data": {
      "text/plain": [
       "<langgraph.graph.state.StateGraph at 0x1bb16185b10>"
      ]
     },
     "execution_count": 36,
     "metadata": {},
     "output_type": "execute_result"
    }
   ],
   "source": [
    "graph.add_node(\"ask_question\", ask_question)\n",
    "graph.add_node(\"chatbot\", chatbot)\n",
    "graph.add_node(\"ask_another_question\", ask_another_question)\n",
    "\n",
    "graph.add_edge(START, \"ask_question\")\n",
    "graph.add_edge(\"ask_question\", \"chatbot\")\n",
    "graph.add_edge(\"chatbot\", \"ask_another_question\")\n",
    "graph.add_conditional_edges(source = \"ask_another_question\", \n",
    "                            path = routing_function)"
   ]
  },
  {
   "cell_type": "code",
   "execution_count": 37,
   "id": "b9e5c8a7-f4cc-4771-8def-78c914a77b32",
   "metadata": {},
   "outputs": [],
   "source": [
    "graph_compiled = graph.compile()"
   ]
  },
  {
   "cell_type": "code",
   "execution_count": 38,
   "id": "2c269a84-aef8-447a-801d-7a91724a2622",
   "metadata": {
    "scrolled": true
   },
   "outputs": [
    {
     "name": "stdout",
     "output_type": "stream",
     "text": [
      "\n",
      "-------> ENTERING ask_question:\n",
      "What is your question?\n"
     ]
    },
    {
     "name": "stdin",
     "output_type": "stream",
     "text": [
      " Which is the first pokemon Ash caught?\n"
     ]
    },
    {
     "name": "stdout",
     "output_type": "stream",
     "text": [
      "\n",
      "-------> ENTERING chatbot:\n",
      "==================================\u001b[1m Ai Message \u001b[0m==================================\n",
      "\n",
      "What is your question?\n",
      "================================\u001b[1m Human Message \u001b[0m=================================\n",
      "\n",
      "Which is the first pokemon Ash caught?\n",
      "==================================\u001b[1m Ai Message \u001b[0m==================================\n",
      "\n",
      "The first Pokémon Ash caught was **Caterpie**.\n",
      "\n",
      "-------> ENTERING ask_another_question:\n",
      "==================================\u001b[1m Ai Message \u001b[0m==================================\n",
      "\n",
      "What is your question?\n",
      "================================\u001b[1m Human Message \u001b[0m=================================\n",
      "\n",
      "Which is the first pokemon Ash caught?\n",
      "==================================\u001b[1m Ai Message \u001b[0m==================================\n",
      "\n",
      "The first Pokémon Ash caught was **Caterpie**.\n",
      "Would you like to ask one more question (yes/no)?\n"
     ]
    },
    {
     "name": "stdin",
     "output_type": "stream",
     "text": [
      " yes\n"
     ]
    },
    {
     "name": "stdout",
     "output_type": "stream",
     "text": [
      "\n",
      "-------> ENTERING ask_question:\n",
      "==================================\u001b[1m Ai Message \u001b[0m==================================\n",
      "\n",
      "What is your question?\n",
      "================================\u001b[1m Human Message \u001b[0m=================================\n",
      "\n",
      "Which is the first pokemon Ash caught?\n",
      "==================================\u001b[1m Ai Message \u001b[0m==================================\n",
      "\n",
      "The first Pokémon Ash caught was **Caterpie**.\n",
      "==================================\u001b[1m Ai Message \u001b[0m==================================\n",
      "\n",
      "Would you like to ask one more question (yes/no)?\n",
      "================================\u001b[1m Human Message \u001b[0m=================================\n",
      "\n",
      "yes\n",
      "What is your question?\n"
     ]
    },
    {
     "name": "stdin",
     "output_type": "stream",
     "text": [
      " What type is that?\n"
     ]
    },
    {
     "name": "stdout",
     "output_type": "stream",
     "text": [
      "\n",
      "-------> ENTERING chatbot:\n",
      "==================================\u001b[1m Ai Message \u001b[0m==================================\n",
      "\n",
      "What is your question?\n",
      "================================\u001b[1m Human Message \u001b[0m=================================\n",
      "\n",
      "Which is the first pokemon Ash caught?\n",
      "==================================\u001b[1m Ai Message \u001b[0m==================================\n",
      "\n",
      "The first Pokémon Ash caught was **Caterpie**.\n",
      "==================================\u001b[1m Ai Message \u001b[0m==================================\n",
      "\n",
      "Would you like to ask one more question (yes/no)?\n",
      "================================\u001b[1m Human Message \u001b[0m=================================\n",
      "\n",
      "yes\n",
      "==================================\u001b[1m Ai Message \u001b[0m==================================\n",
      "\n",
      "What is your question?\n",
      "================================\u001b[1m Human Message \u001b[0m=================================\n",
      "\n",
      "What type is that?\n",
      "==================================\u001b[1m Ai Message \u001b[0m==================================\n",
      "\n",
      "Caterpie is a **Bug** type Pokémon.\n",
      "\n",
      "-------> ENTERING ask_another_question:\n",
      "==================================\u001b[1m Ai Message \u001b[0m==================================\n",
      "\n",
      "What is your question?\n",
      "================================\u001b[1m Human Message \u001b[0m=================================\n",
      "\n",
      "Which is the first pokemon Ash caught?\n",
      "==================================\u001b[1m Ai Message \u001b[0m==================================\n",
      "\n",
      "The first Pokémon Ash caught was **Caterpie**.\n",
      "==================================\u001b[1m Ai Message \u001b[0m==================================\n",
      "\n",
      "Would you like to ask one more question (yes/no)?\n",
      "================================\u001b[1m Human Message \u001b[0m=================================\n",
      "\n",
      "yes\n",
      "==================================\u001b[1m Ai Message \u001b[0m==================================\n",
      "\n",
      "What is your question?\n",
      "================================\u001b[1m Human Message \u001b[0m=================================\n",
      "\n",
      "What type is that?\n",
      "==================================\u001b[1m Ai Message \u001b[0m==================================\n",
      "\n",
      "Caterpie is a **Bug** type Pokémon.\n",
      "Would you like to ask one more question (yes/no)?\n"
     ]
    },
    {
     "name": "stdin",
     "output_type": "stream",
     "text": [
      " No\n"
     ]
    },
    {
     "data": {
      "text/plain": [
       "{'messages': [AIMessage(content='What is your question?', additional_kwargs={}, response_metadata={}, id='37e2b8f7-5f80-4d97-868b-9e0201789c07'),\n",
       "  HumanMessage(content='Which is the first pokemon Ash caught?', additional_kwargs={}, response_metadata={}, id='5948e17c-a992-485c-b209-1bb864777d75'),\n",
       "  AIMessage(content='The first Pokémon Ash caught was **Caterpie**.', additional_kwargs={}, response_metadata={'prompt_feedback': {'block_reason': 0, 'safety_ratings': []}, 'finish_reason': 'STOP', 'model_name': 'gemini-2.0-flash', 'safety_ratings': []}, id='run--9536c6c3-ee37-4b39-aa73-b4ca2acd445c-0', usage_metadata={'input_tokens': 13, 'output_tokens': 11, 'total_tokens': 24, 'input_token_details': {'cache_read': 0}}),\n",
       "  AIMessage(content='Would you like to ask one more question (yes/no)?', additional_kwargs={}, response_metadata={}, id='de5e5842-baef-418f-acd4-00a0b096dcee'),\n",
       "  HumanMessage(content='yes', additional_kwargs={}, response_metadata={}, id='083e4a97-758a-4278-92a6-cea588ac16d2'),\n",
       "  AIMessage(content='What is your question?', additional_kwargs={}, response_metadata={}, id='9f421c4a-13cb-473f-9f6e-f0e1ab051f51'),\n",
       "  HumanMessage(content='What type is that?', additional_kwargs={}, response_metadata={}, id='b2b7f445-0299-4d2f-897d-702d4f2d6252'),\n",
       "  AIMessage(content='Caterpie is a **Bug** type Pokémon.', additional_kwargs={}, response_metadata={'prompt_feedback': {'block_reason': 0, 'safety_ratings': []}, 'finish_reason': 'STOP', 'model_name': 'gemini-2.0-flash', 'safety_ratings': []}, id='run--8bf2e6d2-709c-49bc-8501-262ec215109b-0', usage_metadata={'input_tokens': 47, 'output_tokens': 11, 'total_tokens': 58, 'input_token_details': {'cache_read': 0}}),\n",
       "  AIMessage(content='Would you like to ask one more question (yes/no)?', additional_kwargs={}, response_metadata={}, id='b74f816c-c8ca-43ec-a8f0-d7c4268a6428'),\n",
       "  HumanMessage(content='No', additional_kwargs={}, response_metadata={}, id='ebe2d65a-d890-4542-a960-a2a3d4517a8d')]}"
      ]
     },
     "execution_count": 38,
     "metadata": {},
     "output_type": "execute_result"
    }
   ],
   "source": [
    "graph_compiled.invoke(MessagesState(messages = []))"
   ]
  },
  {
   "cell_type": "markdown",
   "id": "05ce8713-14b1-45ba-b91a-5426621e7607",
   "metadata": {},
   "source": [
    "# The RemoveMessages class"
   ]
  },
  {
   "cell_type": "code",
   "execution_count": 45,
   "id": "87974ee6-b608-4edf-a872-be36feea5941",
   "metadata": {},
   "outputs": [],
   "source": [
    "my_list = add_messages([AIMessage(\"What is your question?\"), \n",
    "                        HumanMessage(\"Could you tell me a grook by Piet Hein?\"),\n",
    "                        AIMessage(\"Certainly! Here's a well-known grook by Piet Hein...\"),\n",
    "                        AIMessage(\"Would you like to ask one more question?\"),\n",
    "                        HumanMessage(\"yes\"),\n",
    "                        AIMessage(\"What is your question?\"),\n",
    "                        HumanMessage(\"Where was the poet born?\"),\n",
    "                        AIMessage(\"Piet Hein was born in Copenhagen, Denmark, on December 16, 1905.\"),\n",
    "                        AIMessage(\"Would you like to ask one more question?\")],\n",
    "                       [HumanMessage(\"yes\")]\n",
    "                      )"
   ]
  },
  {
   "cell_type": "code",
   "execution_count": 61,
   "id": "f3fc877c-9691-4528-8451-6bb0b826eab5",
   "metadata": {},
   "outputs": [
    {
     "data": {
      "text/plain": [
       "[AIMessage(content='What is your question?', additional_kwargs={}, response_metadata={}, id='b05b6c82-688b-4e00-abed-d4c9d03755bc'),\n",
       " HumanMessage(content='Could you tell me a grook by Piet Hein?', additional_kwargs={}, response_metadata={}, id='49f79089-476d-4384-9395-fdc711645205'),\n",
       " AIMessage(content=\"Certainly! Here's a well-known grook by Piet Hein...\", additional_kwargs={}, response_metadata={}, id='0277e540-16e9-4f46-bd68-18f951b7fe92'),\n",
       " AIMessage(content='Would you like to ask one more question?', additional_kwargs={}, response_metadata={}, id='1deb2bca-ca88-41b7-bd9d-bcd2c989602e'),\n",
       " HumanMessage(content='yes', additional_kwargs={}, response_metadata={}, id='0da6efbd-d7e3-4fa0-903d-3f3c6619bd16')]"
      ]
     },
     "execution_count": 61,
     "metadata": {},
     "output_type": "execute_result"
    }
   ],
   "source": [
    "# All the elements except last 5\n",
    "my_list[:-5]"
   ]
  },
  {
   "cell_type": "code",
   "execution_count": 57,
   "id": "2f5d5135-b8d1-4e7f-875b-b36231e98600",
   "metadata": {},
   "outputs": [],
   "source": [
    "remove_messages = [RemoveMessage(id = i.id) for i in my_list[:-5]]"
   ]
  },
  {
   "cell_type": "markdown",
   "id": "d2c2bdb0-8aa7-44bd-b9e7-9a3331c42187",
   "metadata": {},
   "source": [
    "1. `my_list[:-5]` → takes **all elements except the last 5**.\n",
    "2. For each `i` in that slice:\n",
    "\n",
    "   * It creates a `RemoveMessage` object.\n",
    "   * The argument `id=i.id` passes the **`id` attribute** of the message object `i`.\n",
    "\n",
    "So you end up with a list of `RemoveMessage` objects, each storing the same `id` as the original message.\n",
    "\n",
    "---"
   ]
  },
  {
   "cell_type": "code",
   "execution_count": 60,
   "id": "0d6130d3-02da-481f-8fc8-372c4efd653e",
   "metadata": {},
   "outputs": [
    {
     "data": {
      "text/plain": [
       "[RemoveMessage(content='', additional_kwargs={}, response_metadata={}, id='b05b6c82-688b-4e00-abed-d4c9d03755bc'),\n",
       " RemoveMessage(content='', additional_kwargs={}, response_metadata={}, id='49f79089-476d-4384-9395-fdc711645205'),\n",
       " RemoveMessage(content='', additional_kwargs={}, response_metadata={}, id='0277e540-16e9-4f46-bd68-18f951b7fe92'),\n",
       " RemoveMessage(content='', additional_kwargs={}, response_metadata={}, id='1deb2bca-ca88-41b7-bd9d-bcd2c989602e'),\n",
       " RemoveMessage(content='', additional_kwargs={}, response_metadata={}, id='0da6efbd-d7e3-4fa0-903d-3f3c6619bd16')]"
      ]
     },
     "execution_count": 60,
     "metadata": {},
     "output_type": "execute_result"
    }
   ],
   "source": [
    "# Messages to be removed:\n",
    "remove_messages"
   ]
  },
  {
   "cell_type": "code",
   "execution_count": 59,
   "id": "85eed151-49da-41c7-b9c8-40ee8548161c",
   "metadata": {
    "scrolled": true
   },
   "outputs": [
    {
     "data": {
      "text/plain": [
       "[AIMessage(content='What is your question?', additional_kwargs={}, response_metadata={}, id='dbae23e3-859d-43a5-b1db-7c9a8419bea9'),\n",
       " HumanMessage(content='Where was the poet born?', additional_kwargs={}, response_metadata={}, id='c2b05060-a542-4bed-a38c-1e5fa7b11d2d'),\n",
       " AIMessage(content='Piet Hein was born in Copenhagen, Denmark, on December 16, 1905.', additional_kwargs={}, response_metadata={}, id='14847b18-42a4-4542-b38d-7742769d826e'),\n",
       " AIMessage(content='Would you like to ask one more question?', additional_kwargs={}, response_metadata={}, id='eeab8083-ebf4-42fa-af46-53843dd612ec'),\n",
       " HumanMessage(content='yes', additional_kwargs={}, response_metadata={}, id='c65c797c-3670-4716-93e9-15b39cb1ad97')]"
      ]
     },
     "execution_count": 59,
     "metadata": {},
     "output_type": "execute_result"
    }
   ],
   "source": [
    "add_messages(my_list, remove_messages)"
   ]
  },
  {
   "cell_type": "code",
   "execution_count": 62,
   "id": "3dc6c233-80dd-47d3-bc0f-c13e2d1e1be0",
   "metadata": {},
   "outputs": [
    {
     "data": {
      "image/png": "[encoded data removed]",
      "text/plain": [
       "<IPython.core.display.Image object>"
      ]
     },
     "metadata": {
      "image/png": {
       "width": 300
      }
     },
     "output_type": "display_data"
    }
   ],
   "source": [
    "from IPython.display import Image, display\n",
    "\n",
    "display(Image(filename = r\"D:\\AI-ML\\LangGraph\\Files\\FlowDiagram2.png\", width=300))"
   ]
  },
  {
   "cell_type": "markdown",
   "id": "1066da90-cf8f-453e-866c-cb0eed0b5a42",
   "metadata": {},
   "source": [
    "Adding new node \"trim_messages\""
   ]
  },
  {
   "cell_type": "code",
   "execution_count": 64,
   "id": "52f86788-b93f-41bd-99dd-2501559c1caf",
   "metadata": {},
   "outputs": [],
   "source": [
    "def ask_question(state: MessagesState) -> MessagesState:\n",
    "    \n",
    "    print(f\"\\n-------> ENTERING ask_question:\")\n",
    "    for i in state[\"messages\"]:\n",
    "        i.pretty_print()\n",
    "    \n",
    "    question = \"What is your question?\"\n",
    "    print(question)\n",
    "    \n",
    "    return MessagesState(messages = [AIMessage(question), HumanMessage(input())])"
   ]
  },
  {
   "cell_type": "code",
   "execution_count": 68,
   "id": "18b39aa4-a9b5-4016-b558-163caf2d5f91",
   "metadata": {},
   "outputs": [],
   "source": [
    "def chatbot(state: MessagesState) -> MessagesState:\n",
    "    \n",
    "    print(f\"\\n-------> ENTERING chatbot:\")\n",
    "    for i in state[\"messages\"]:\n",
    "        i.pretty_print()\n",
    "    \n",
    "    response = AskGeminiAI(state[\"messages\"])\n",
    "    response.pretty_print()\n",
    "    \n",
    "    return MessagesState(messages = [response])"
   ]
  },
  {
   "cell_type": "code",
   "execution_count": 66,
   "id": "c5643a9e-4819-4123-a6c1-8556bf3d3d57",
   "metadata": {},
   "outputs": [],
   "source": [
    "def ask_another_question(state: MessagesState) -> MessagesState:\n",
    "    \n",
    "    print(f\"\\n-------> ENTERING ask_another_question:\")\n",
    "    for i in state[\"messages\"]:\n",
    "        i.pretty_print()\n",
    "    \n",
    "    question = \"Would you like to ask one more question (yes/no)?\"\n",
    "    print(question)\n",
    "    \n",
    "    return MessagesState(messages = [AIMessage(question), HumanMessage(input())])"
   ]
  },
  {
   "cell_type": "code",
   "execution_count": 63,
   "id": "2ad4a280-99cc-4dc7-a153-7cae6b6df3fa",
   "metadata": {},
   "outputs": [],
   "source": [
    "def trim_messages(state: MessagesState) -> MessagesState:\n",
    "    print(f\"\\n-------> ENTERING trim_messages:\")\n",
    "    \n",
    "    remove_messages = [RemoveMessage(id = i.id) for i in state[\"messages\"][:-5]]\n",
    "    \n",
    "    return MessagesState(messages = remove_messages)"
   ]
  },
  {
   "cell_type": "code",
   "execution_count": 67,
   "id": "cb441d05-dbb0-4b02-bbd8-e0edd167af13",
   "metadata": {},
   "outputs": [],
   "source": [
    "def routing_function(state: MessagesState) -> Literal[\"trim_messages\", \"__end__\"]:\n",
    "    \n",
    "    if state[\"messages\"][-1].content == \"yes\":\n",
    "        return \"trim_messages\"\n",
    "    else:\n",
    "        return \"__end__\""
   ]
  },
  {
   "cell_type": "code",
   "execution_count": 71,
   "id": "050210ad-7e69-4fca-bcaf-9f422f4cb466",
   "metadata": {},
   "outputs": [
    {
     "name": "stdout",
     "output_type": "stream",
     "text": [
      "                     +-----------+                   \n",
      "                     | __start__ |                   \n",
      "                     +-----------+                   \n",
      "                            *                        \n",
      "                            *                        \n",
      "                            *                        \n",
      "                    +--------------+                 \n",
      "                    | ask_question |                 \n",
      "                    +--------------+                 \n",
      "                   ***            ***                \n",
      "                 **                  ***             \n",
      "               **                       **           \n",
      "      +---------+                         **         \n",
      "      | chatbot |                          *         \n",
      "      +---------+                          *         \n",
      "            *                              *         \n",
      "            *                              *         \n",
      "            *                              *         \n",
      "+----------------------+                   *         \n",
      "| ask_another_question |                   *         \n",
      "+----------------------+.                  *         \n",
      "            .            ......            *         \n",
      "            .                  .....       *         \n",
      "            .                       ...    *         \n",
      "      +---------+                 +---------------+  \n",
      "      | __end__ |                 | trim_messages |  \n",
      "      +---------+                 +---------------+  \n"
     ]
    }
   ],
   "source": [
    "graph = StateGraph(MessagesState)\n",
    "\n",
    "graph.add_node(\"ask_question\", ask_question)\n",
    "graph.add_node(\"chatbot\", chatbot)\n",
    "graph.add_node(\"ask_another_question\", ask_another_question)\n",
    "graph.add_node(\"trim_messages\", trim_messages)\n",
    "\n",
    "graph.add_edge(START, \"ask_question\")\n",
    "graph.add_edge(\"ask_question\", \"chatbot\")\n",
    "graph.add_edge(\"chatbot\", \"ask_another_question\")\n",
    "graph.add_edge(\"trim_messages\", \"ask_question\")\n",
    "graph.add_conditional_edges(source = \"ask_another_question\", \n",
    "                            path = routing_function)\n",
    "\n",
    "graph_compiled = graph.compile()\n",
    "\n",
    "print(graph_compiled.get_graph().draw_ascii())"
   ]
  },
  {
   "cell_type": "code",
   "execution_count": 72,
   "id": "5ee137aa-e77d-4c8f-b42b-b070a8944e72",
   "metadata": {},
   "outputs": [
    {
     "name": "stdout",
     "output_type": "stream",
     "text": [
      "\n",
      "-------> ENTERING ask_question:\n",
      "What is your question?\n"
     ]
    },
    {
     "name": "stdin",
     "output_type": "stream",
     "text": [
      " My name is Suraj.\n"
     ]
    },
    {
     "name": "stdout",
     "output_type": "stream",
     "text": [
      "\n",
      "-------> ENTERING chatbot:\n",
      "==================================\u001b[1m Ai Message \u001b[0m==================================\n",
      "\n",
      "What is your question?\n",
      "================================\u001b[1m Human Message \u001b[0m=================================\n",
      "\n",
      "My name is Suraj.\n",
      "==================================\u001b[1m Ai Message \u001b[0m==================================\n",
      "\n",
      "Okay, Suraj. It's nice to meet you. How can I help you today?\n",
      "\n",
      "-------> ENTERING ask_another_question:\n",
      "==================================\u001b[1m Ai Message \u001b[0m==================================\n",
      "\n",
      "What is your question?\n",
      "================================\u001b[1m Human Message \u001b[0m=================================\n",
      "\n",
      "My name is Suraj.\n",
      "==================================\u001b[1m Ai Message \u001b[0m==================================\n",
      "\n",
      "Okay, Suraj. It's nice to meet you. How can I help you today?\n",
      "Would you like to ask one more question (yes/no)?\n"
     ]
    },
    {
     "name": "stdin",
     "output_type": "stream",
     "text": [
      " yes\n"
     ]
    },
    {
     "name": "stdout",
     "output_type": "stream",
     "text": [
      "\n",
      "-------> ENTERING trim_messages:\n",
      "\n",
      "-------> ENTERING ask_question:\n",
      "==================================\u001b[1m Ai Message \u001b[0m==================================\n",
      "\n",
      "What is your question?\n",
      "================================\u001b[1m Human Message \u001b[0m=================================\n",
      "\n",
      "My name is Suraj.\n",
      "==================================\u001b[1m Ai Message \u001b[0m==================================\n",
      "\n",
      "Okay, Suraj. It's nice to meet you. How can I help you today?\n",
      "==================================\u001b[1m Ai Message \u001b[0m==================================\n",
      "\n",
      "Would you like to ask one more question (yes/no)?\n",
      "================================\u001b[1m Human Message \u001b[0m=================================\n",
      "\n",
      "yes\n",
      "What is your question?\n"
     ]
    },
    {
     "name": "stdin",
     "output_type": "stream",
     "text": [
      " What is my name?\n"
     ]
    },
    {
     "name": "stdout",
     "output_type": "stream",
     "text": [
      "\n",
      "-------> ENTERING chatbot:\n",
      "==================================\u001b[1m Ai Message \u001b[0m==================================\n",
      "\n",
      "What is your question?\n",
      "================================\u001b[1m Human Message \u001b[0m=================================\n",
      "\n",
      "My name is Suraj.\n",
      "==================================\u001b[1m Ai Message \u001b[0m==================================\n",
      "\n",
      "Okay, Suraj. It's nice to meet you. How can I help you today?\n",
      "==================================\u001b[1m Ai Message \u001b[0m==================================\n",
      "\n",
      "Would you like to ask one more question (yes/no)?\n",
      "================================\u001b[1m Human Message \u001b[0m=================================\n",
      "\n",
      "yes\n",
      "==================================\u001b[1m Ai Message \u001b[0m==================================\n",
      "\n",
      "What is your question?\n",
      "================================\u001b[1m Human Message \u001b[0m=================================\n",
      "\n",
      "What is my name?\n",
      "==================================\u001b[1m Ai Message \u001b[0m==================================\n",
      "\n",
      "Your name is Suraj.\n",
      "\n",
      "-------> ENTERING ask_another_question:\n",
      "==================================\u001b[1m Ai Message \u001b[0m==================================\n",
      "\n",
      "What is your question?\n",
      "================================\u001b[1m Human Message \u001b[0m=================================\n",
      "\n",
      "My name is Suraj.\n",
      "==================================\u001b[1m Ai Message \u001b[0m==================================\n",
      "\n",
      "Okay, Suraj. It's nice to meet you. How can I help you today?\n",
      "==================================\u001b[1m Ai Message \u001b[0m==================================\n",
      "\n",
      "Would you like to ask one more question (yes/no)?\n",
      "================================\u001b[1m Human Message \u001b[0m=================================\n",
      "\n",
      "yes\n",
      "==================================\u001b[1m Ai Message \u001b[0m==================================\n",
      "\n",
      "What is your question?\n",
      "================================\u001b[1m Human Message \u001b[0m=================================\n",
      "\n",
      "What is my name?\n",
      "==================================\u001b[1m Ai Message \u001b[0m==================================\n",
      "\n",
      "Your name is Suraj.\n",
      "Would you like to ask one more question (yes/no)?\n"
     ]
    },
    {
     "name": "stdin",
     "output_type": "stream",
     "text": [
      " yes\n"
     ]
    },
    {
     "name": "stdout",
     "output_type": "stream",
     "text": [
      "\n",
      "-------> ENTERING trim_messages:\n",
      "\n",
      "-------> ENTERING ask_question:\n",
      "==================================\u001b[1m Ai Message \u001b[0m==================================\n",
      "\n",
      "What is your question?\n",
      "================================\u001b[1m Human Message \u001b[0m=================================\n",
      "\n",
      "What is my name?\n",
      "==================================\u001b[1m Ai Message \u001b[0m==================================\n",
      "\n",
      "Your name is Suraj.\n",
      "==================================\u001b[1m Ai Message \u001b[0m==================================\n",
      "\n",
      "Would you like to ask one more question (yes/no)?\n",
      "================================\u001b[1m Human Message \u001b[0m=================================\n",
      "\n",
      "yes\n",
      "What is your question?\n"
     ]
    },
    {
     "name": "stdin",
     "output_type": "stream",
     "text": [
      " What is the meaning of that name?\n"
     ]
    },
    {
     "name": "stdout",
     "output_type": "stream",
     "text": [
      "\n",
      "-------> ENTERING chatbot:\n",
      "==================================\u001b[1m Ai Message \u001b[0m==================================\n",
      "\n",
      "What is your question?\n",
      "================================\u001b[1m Human Message \u001b[0m=================================\n",
      "\n",
      "What is my name?\n",
      "==================================\u001b[1m Ai Message \u001b[0m==================================\n",
      "\n",
      "Your name is Suraj.\n",
      "==================================\u001b[1m Ai Message \u001b[0m==================================\n",
      "\n",
      "Would you like to ask one more question (yes/no)?\n",
      "================================\u001b[1m Human Message \u001b[0m=================================\n",
      "\n",
      "yes\n",
      "==================================\u001b[1m Ai Message \u001b[0m==================================\n",
      "\n",
      "What is your question?\n",
      "================================\u001b[1m Human Message \u001b[0m=================================\n",
      "\n",
      "What is the meaning of that name?\n",
      "==================================\u001b[1m Ai Message \u001b[0m==================================\n",
      "\n",
      "The name Suraj (सूरज) is of Indian origin and means **\"sun\"**. It symbolizes light, warmth, energy, and vitality. It's a common and auspicious name in many Indian cultures.\n",
      "\n",
      "-------> ENTERING ask_another_question:\n",
      "==================================\u001b[1m Ai Message \u001b[0m==================================\n",
      "\n",
      "What is your question?\n",
      "================================\u001b[1m Human Message \u001b[0m=================================\n",
      "\n",
      "What is my name?\n",
      "==================================\u001b[1m Ai Message \u001b[0m==================================\n",
      "\n",
      "Your name is Suraj.\n",
      "==================================\u001b[1m Ai Message \u001b[0m==================================\n",
      "\n",
      "Would you like to ask one more question (yes/no)?\n",
      "================================\u001b[1m Human Message \u001b[0m=================================\n",
      "\n",
      "yes\n",
      "==================================\u001b[1m Ai Message \u001b[0m==================================\n",
      "\n",
      "What is your question?\n",
      "================================\u001b[1m Human Message \u001b[0m=================================\n",
      "\n",
      "What is the meaning of that name?\n",
      "==================================\u001b[1m Ai Message \u001b[0m==================================\n",
      "\n",
      "The name Suraj (सूरज) is of Indian origin and means **\"sun\"**. It symbolizes light, warmth, energy, and vitality. It's a common and auspicious name in many Indian cultures.\n",
      "Would you like to ask one more question (yes/no)?\n"
     ]
    },
    {
     "name": "stdin",
     "output_type": "stream",
     "text": [
      " No\n"
     ]
    },
    {
     "data": {
      "text/plain": [
       "{'messages': [AIMessage(content='What is your question?', additional_kwargs={}, response_metadata={}, id='b3fdaf0a-0ae9-4d44-a45e-bcf22f5f9ab5'),\n",
       "  HumanMessage(content='What is my name?', additional_kwargs={}, response_metadata={}, id='b6add84e-84f2-4fed-bce5-9fd243d5d988'),\n",
       "  AIMessage(content='Your name is Suraj.', additional_kwargs={}, response_metadata={'prompt_feedback': {'block_reason': 0, 'safety_ratings': []}, 'finish_reason': 'STOP', 'model_name': 'gemini-2.0-flash', 'safety_ratings': []}, id='run--35d15a9f-e096-4b2b-a5b1-26be6e528382-0', usage_metadata={'input_tokens': 55, 'output_tokens': 7, 'total_tokens': 62, 'input_token_details': {'cache_read': 0}}),\n",
       "  AIMessage(content='Would you like to ask one more question (yes/no)?', additional_kwargs={}, response_metadata={}, id='2022e8bb-247c-4ead-8159-612b63be78b5'),\n",
       "  HumanMessage(content='yes', additional_kwargs={}, response_metadata={}, id='55c37d42-2690-43d6-8626-b039d2dfc328'),\n",
       "  AIMessage(content='What is your question?', additional_kwargs={}, response_metadata={}, id='8c033667-00bb-4b0c-80dc-d9ad9c18dada'),\n",
       "  HumanMessage(content='What is the meaning of that name?', additional_kwargs={}, response_metadata={}, id='f44b13e9-4ec1-41f0-8e4a-701a3ee515ca'),\n",
       "  AIMessage(content='The name Suraj (सूरज) is of Indian origin and means **\"sun\"**. It symbolizes light, warmth, energy, and vitality. It\\'s a common and auspicious name in many Indian cultures.', additional_kwargs={}, response_metadata={'prompt_feedback': {'block_reason': 0, 'safety_ratings': []}, 'finish_reason': 'STOP', 'model_name': 'gemini-2.0-flash', 'safety_ratings': []}, id='run--0a491501-bd43-4318-af91-40caec215480-0', usage_metadata={'input_tokens': 43, 'output_tokens': 45, 'total_tokens': 88, 'input_token_details': {'cache_read': 0}}),\n",
       "  AIMessage(content='Would you like to ask one more question (yes/no)?', additional_kwargs={}, response_metadata={}, id='b39e5f06-b88c-40ca-9322-b0c1abd0524c'),\n",
       "  HumanMessage(content='No', additional_kwargs={}, response_metadata={}, id='6d6e8cad-936c-4224-9efa-03ee86196318')]}"
      ]
     },
     "execution_count": 72,
     "metadata": {},
     "output_type": "execute_result"
    }
   ],
   "source": [
    "graph_compiled.invoke(MessagesState(messages = []))"
   ]
  },
  {
   "cell_type": "code",
   "execution_count": null,
   "id": "74fb8b57-f355-4128-ad6a-b2be4d4fd618",
   "metadata": {},
   "outputs": [],
   "source": []
  },
  {
   "cell_type": "code",
   "execution_count": null,
   "id": "7c67d65c-6af7-41bb-8ee1-ae7964fea4b1",
   "metadata": {},
   "outputs": [],
   "source": []
  },
  {
   "cell_type": "code",
   "execution_count": null,
   "id": "b4f11d36-c295-4283-8766-ca498c1195c9",
   "metadata": {},
   "outputs": [],
   "source": []
  },
  {
   "cell_type": "code",
   "execution_count": null,
   "id": "0a145208-9066-48e6-b9b2-2617389d5774",
   "metadata": {},
   "outputs": [],
   "source": []
  },
  {
   "cell_type": "code",
   "execution_count": null,
   "id": "c76ec8bb-576f-4e77-9836-fd905cbbf8cd",
   "metadata": {},
   "outputs": [],
   "source": []
  }
 ],
 "metadata": {
  "kernelspec": {
   "display_name": "Python (llms_course_env)",
   "language": "python",
   "name": "llms_course_env"
  },
  "language_info": {
   "codemirror_mode": {
    "name": "ipython",
    "version": 3
   },
   "file_extension": ".py",
   "mimetype": "text/x-python",
   "name": "python",
   "nbconvert_exporter": "python",
   "pygments_lexer": "ipython3",
   "version": "3.11.13"
  }
 },
 "nbformat": 4,
 "nbformat_minor": 5
}
