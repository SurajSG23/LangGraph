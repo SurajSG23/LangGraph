{
 "cells": [
  {
   "cell_type": "markdown",
   "id": "8aa204c9-1866-47b6-83d4-41e78e173eff",
   "metadata": {},
   "source": [
    "# First graph: Importing relevant classes"
   ]
  },
  {
   "cell_type": "code",
   "execution_count": 6,
   "id": "7a16566e-210b-485a-91ca-95133c0d35fe",
   "metadata": {},
   "outputs": [],
   "source": [
    "from langgraph.graph import START, END, StateGraph\n",
    "from typing_extensions import TypedDict\n",
    "from langchain_google_genai import ChatGoogleGenerativeAI\n",
    "from langchain_core.messages import HumanMessage, BaseMessage\n",
    "from langchain_core.runnables import Runnable\n",
    "from collections.abc import Sequence \n",
    "import config"
   ]
  },
  {
   "cell_type": "markdown",
   "id": "3d3e5e70-b214-4971-b7ab-fd7b0bd043da",
   "metadata": {},
   "source": [
    "```python\n",
    "from langgraph.graph import START, END, StateGraph\n",
    "```\n",
    "\n",
    "* **LangGraph** is a library for building workflows with LLMs.\n",
    "* `START` and `END` → special markers showing where a graph (pipeline) starts and ends.\n",
    "* `StateGraph` → lets you define a graph of states and transitions (like a flowchart for AI tasks).\n",
    "\n",
    "---\n",
    "\n",
    "```python\n",
    "from typing_extensions import TypedDict\n",
    "```\n",
    "\n",
    "* `TypedDict` lets you define a **dictionary with fixed keys and value types**.\n",
    "* Example:\n",
    "\n",
    "  ```python\n",
    "  class MyDict(TypedDict):\n",
    "      name: str\n",
    "      age: int\n",
    "  ```\n",
    "\n",
    "  → means every `MyDict` must have a `\"name\"` (string) and `\"age\"` (integer).\n",
    "\n",
    "---\n",
    "\n",
    "\n",
    "```python\n",
    "from langchain_core.messages import HumanMessage, BaseMessage\n",
    "```\n",
    "\n",
    "* `HumanMessage` → represents a message from the **user**.\n",
    "* `BaseMessage` → the general type for any message (human, AI, system).\n",
    "\n",
    "---\n",
    "\n",
    "```python\n",
    "from langchain_core.runnables import Runnable\n",
    "```\n",
    "\n",
    "* `Runnable` → a building block in LangChain.\n",
    "* It’s like a **function wrapper** that can be chained with others to make a pipeline.\n",
    "\n",
    "---\n",
    "\n",
    "```python\n",
    "from collections.abc import Sequence \n",
    "```\n",
    "\n",
    "* `Sequence` → a generic type meaning “a list-like container” (something you can loop over in order, e.g. list, tuple).\n",
    "\n",
    "---\n"
   ]
  },
  {
   "cell_type": "code",
   "execution_count": 7,
   "id": "d2be3986-560a-4357-94a7-9630b6325140",
   "metadata": {},
   "outputs": [],
   "source": [
    "llm = ChatGoogleGenerativeAI(\n",
    "    model=\"gemini-2.0-flash\",\n",
    "    google_api_key=config.gemini_api_key,\n",
    "    temperature=0.7,\n",
    "    max_tokens=250,\n",
    "    model_kwargs={\"seed\": 42}\n",
    ")"
   ]
  },
  {
   "cell_type": "code",
   "execution_count": 8,
   "id": "499130b1-9544-48c3-993b-09637bdaef1d",
   "metadata": {},
   "outputs": [],
   "source": [
    "def AskGeminiAI(question) -> str :\n",
    "    response = llm.invoke(question)\n",
    "    return response.content"
   ]
  },
  {
   "cell_type": "code",
   "execution_count": null,
   "id": "b3d0db82-1148-47ea-8536-3abd94a32f14",
   "metadata": {},
   "outputs": [],
   "source": []
  }
 ],
 "metadata": {
  "kernelspec": {
   "display_name": "Python (llms_course_env)",
   "language": "python",
   "name": "llms_course_env"
  },
  "language_info": {
   "codemirror_mode": {
    "name": "ipython",
    "version": 3
   },
   "file_extension": ".py",
   "mimetype": "text/x-python",
   "name": "python",
   "nbconvert_exporter": "python",
   "pygments_lexer": "ipython3",
   "version": "3.11.13"
  }
 },
 "nbformat": 4,
 "nbformat_minor": 5
}
