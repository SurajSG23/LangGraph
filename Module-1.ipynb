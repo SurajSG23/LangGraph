{
 "cells": [
  {
   "cell_type": "markdown",
   "id": "8aa204c9-1866-47b6-83d4-41e78e173eff",
   "metadata": {},
   "source": [
    "# Importing relevant classes"
   ]
  },
  {
   "cell_type": "code",
   "execution_count": 6,
   "id": "7a16566e-210b-485a-91ca-95133c0d35fe",
   "metadata": {},
   "outputs": [],
   "source": [
    "from langgraph.graph import START, END, StateGraph\n",
    "from typing_extensions import TypedDict\n",
    "from langchain_google_genai import ChatGoogleGenerativeAI\n",
    "from langchain_core.messages import HumanMessage, BaseMessage\n",
    "from langchain_core.runnables import Runnable\n",
    "from collections.abc import Sequence \n",
    "import config"
   ]
  },
  {
   "cell_type": "markdown",
   "id": "3d3e5e70-b214-4971-b7ab-fd7b0bd043da",
   "metadata": {},
   "source": [
    "```python\n",
    "from langgraph.graph import START, END, StateGraph\n",
    "```\n",
    "\n",
    "* **LangGraph** is a library for building workflows with LLMs.\n",
    "* `START` and `END` → special markers showing where a graph (pipeline) starts and ends.\n",
    "* `StateGraph` → lets you define a graph of states and transitions (like a flowchart for AI tasks).\n",
    "\n",
    "---\n",
    "\n",
    "```python\n",
    "from typing_extensions import TypedDict\n",
    "```\n",
    "\n",
    "* `TypedDict` lets you define a **dictionary with fixed keys and value types**.\n",
    "* Example:\n",
    "\n",
    "  ```python\n",
    "  class MyDict(TypedDict):\n",
    "      name: str\n",
    "      age: int\n",
    "  ```\n",
    "\n",
    "  → means every `MyDict` must have a `\"name\"` (string) and `\"age\"` (integer).\n",
    "\n",
    "---\n",
    "\n",
    "\n",
    "```python\n",
    "from langchain_core.messages import HumanMessage, BaseMessage\n",
    "```\n",
    "\n",
    "* `HumanMessage` → represents a message from the **user**.\n",
    "* `BaseMessage` → the general type for any message (human, AI, system).\n",
    "\n",
    "---\n",
    "\n",
    "```python\n",
    "from langchain_core.runnables import Runnable\n",
    "```\n",
    "\n",
    "* `Runnable` → a building block in LangChain.\n",
    "* It’s like a **function wrapper** that can be chained with others to make a pipeline.\n",
    "\n",
    "---\n",
    "\n",
    "```python\n",
    "from collections.abc import Sequence \n",
    "```\n",
    "\n",
    "* `Sequence` → a generic type meaning “a list-like container” (something you can loop over in order, e.g. list, tuple).\n",
    "\n",
    "---\n"
   ]
  },
  {
   "cell_type": "code",
   "execution_count": 20,
   "id": "d2be3986-560a-4357-94a7-9630b6325140",
   "metadata": {},
   "outputs": [],
   "source": [
    "llm = ChatGoogleGenerativeAI(\n",
    "    model=\"gemini-2.0-flash\",\n",
    "    google_api_key=config.gemini_api_key,\n",
    "    temperature=0,\n",
    "    max_tokens=250,\n",
    "    model_kwargs={\"seed\": 42}\n",
    ")\n",
    "# The seed = 42 ensures your Gemini responses are consistent and repeatable, especially since temperature=0 removes extra randomness."
   ]
  },
  {
   "cell_type": "code",
   "execution_count": 24,
   "id": "499130b1-9544-48c3-993b-09637bdaef1d",
   "metadata": {},
   "outputs": [],
   "source": [
    "def AskGeminiAI(question):\n",
    "    response = llm.invoke(question)\n",
    "    return response"
   ]
  },
  {
   "cell_type": "markdown",
   "id": "11a974e6-d9ac-4c4f-a211-2dcc524f1ac8",
   "metadata": {},
   "source": [
    "## Defining a state and a node"
   ]
  },
  {
   "cell_type": "code",
   "execution_count": 11,
   "id": "ee295ae1-7651-47ba-b36f-1a2b424c5782",
   "metadata": {},
   "outputs": [],
   "source": [
    "class State(TypedDict):\n",
    "    messages: Sequence[BaseMessage]"
   ]
  },
  {
   "cell_type": "code",
   "execution_count": 12,
   "id": "d172c484-a442-464f-8b8a-8746ea13a104",
   "metadata": {},
   "outputs": [],
   "source": [
    "state = State(\n",
    "    messages = [HumanMessage(\"Could you tell me a grook by Piet Hein?\")]\n",
    ")"
   ]
  },
  {
   "cell_type": "code",
   "execution_count": 18,
   "id": "50939e75-71ac-4052-ac22-7e4fdbcbfad3",
   "metadata": {},
   "outputs": [
    {
     "data": {
      "text/plain": [
       "{'messages': [HumanMessage(content='Could you tell me a grook by Piet Hein?', additional_kwargs={}, response_metadata={})]}"
      ]
     },
     "execution_count": 18,
     "metadata": {},
     "output_type": "execute_result"
    }
   ],
   "source": [
    "state"
   ]
  },
  {
   "cell_type": "code",
   "execution_count": 15,
   "id": "d890ef26-31d5-4532-ac48-da8d0f3818d8",
   "metadata": {},
   "outputs": [
    {
     "name": "stdout",
     "output_type": "stream",
     "text": [
      "================================\u001b[1m Human Message \u001b[0m=================================\n",
      "\n",
      "Could you tell me a grook by Piet Hein?\n"
     ]
    }
   ],
   "source": [
    "state[\"messages\"][0].pretty_print()"
   ]
  },
  {
   "cell_type": "code",
   "execution_count": 26,
   "id": "11b4a15d-9c4f-4114-a010-7510ab5b5f0a",
   "metadata": {},
   "outputs": [
    {
     "name": "stdout",
     "output_type": "stream",
     "text": [
      "==================================\u001b[1m Ai Message \u001b[0m==================================\n",
      "\n",
      "Here's a classic Piet Hein grook:\n",
      "\n",
      "**Problems worthy of attack\n",
      "prove their worth by hitting back.**\n"
     ]
    }
   ],
   "source": [
    "AskGeminiAI(state[\"messages\"]).pretty_print()"
   ]
  },
  {
   "cell_type": "code",
   "execution_count": 33,
   "id": "eba71ef1-a2e8-46cf-babe-18077b270ebe",
   "metadata": {},
   "outputs": [],
   "source": [
    "# Node \n",
    "def chatbot(state: State) -> State:\n",
    "    \n",
    "    print(f\"\\n-------> ENTERING chatbot:\")\n",
    "    \n",
    "    response = AskGeminiAI(state[\"messages\"])\n",
    "    response.pretty_print()\n",
    "    \n",
    "    return State(messages = [response])"
   ]
  },
  {
   "cell_type": "code",
   "execution_count": 28,
   "id": "cde0bb4f-d96d-42f0-9a19-098a27664e3c",
   "metadata": {},
   "outputs": [
    {
     "data": {
      "text/plain": [
       "{'messages': [HumanMessage(content='Could you tell me a grook by Piet Hein?', additional_kwargs={}, response_metadata={})]}"
      ]
     },
     "execution_count": 28,
     "metadata": {},
     "output_type": "execute_result"
    }
   ],
   "source": [
    "state"
   ]
  },
  {
   "cell_type": "code",
   "execution_count": 29,
   "id": "7b328016-c5b7-45a2-ab49-ae88c16ad99b",
   "metadata": {},
   "outputs": [
    {
     "name": "stdout",
     "output_type": "stream",
     "text": [
      "\n",
      "-------> ENTERING chatbot:\n",
      "==================================\u001b[1m Ai Message \u001b[0m==================================\n",
      "\n",
      "Here's a classic Piet Hein grook:\n",
      "\n",
      "**Problems worthy of attack\n",
      "prove their worth by hitting back.**\n"
     ]
    },
    {
     "data": {
      "text/plain": [
       "{'messages': [AIMessage(content=\"Here's a classic Piet Hein grook:\\n\\n**Problems worthy of attack\\nprove their worth by hitting back.**\", additional_kwargs={}, response_metadata={'prompt_feedback': {'block_reason': 0, 'safety_ratings': []}, 'finish_reason': 'STOP', 'model_name': 'gemini-2.0-flash', 'safety_ratings': []}, id='run--793c4e6d-4db6-499d-8ce3-6a0ccd41cbe9-0', usage_metadata={'input_tokens': 11, 'output_tokens': 25, 'total_tokens': 36, 'input_token_details': {'cache_read': 0}})]}"
      ]
     },
     "execution_count": 29,
     "metadata": {},
     "output_type": "execute_result"
    }
   ],
   "source": [
    "chatbot(state)"
   ]
  },
  {
   "cell_type": "markdown",
   "id": "8216dc13-cc2b-451a-b4bd-c1fda070c233",
   "metadata": {},
   "source": [
    "## Building the graph"
   ]
  },
  {
   "cell_type": "code",
   "execution_count": 31,
   "id": "a1b14f1e-3172-41c0-af7e-a60b1b34a727",
   "metadata": {},
   "outputs": [],
   "source": [
    "graph = StateGraph(State)"
   ]
  },
  {
   "cell_type": "code",
   "execution_count": 37,
   "id": "4220da52-d31f-4d61-8ef5-119e9b7b0af2",
   "metadata": {},
   "outputs": [
    {
     "data": {
      "text/plain": [
       "<langgraph.graph.state.StateGraph at 0x231e2382c50>"
      ]
     },
     "execution_count": 37,
     "metadata": {},
     "output_type": "execute_result"
    }
   ],
   "source": [
    "graph.add_node(\"chatbotNode\", chatbot)\n",
    "\n",
    "graph.add_edge(START, \"chatbotNode\")\n",
    "graph.add_edge(\"chatbotNode\", END)"
   ]
  },
  {
   "cell_type": "code",
   "execution_count": 60,
   "id": "ddb2ba45-607d-440a-a232-e03dce3725fd",
   "metadata": {},
   "outputs": [],
   "source": [
    "# Checks if the nodes are connected properly and creates a Runnable object\n",
    "graph_compiled = graph.compile()"
   ]
  },
  {
   "cell_type": "code",
   "execution_count": 40,
   "id": "d076026e-af8d-4398-80df-68f472c9cce0",
   "metadata": {},
   "outputs": [
    {
     "data": {
      "text/plain": [
       "(True, False)"
      ]
     },
     "execution_count": 40,
     "metadata": {},
     "output_type": "execute_result"
    }
   ],
   "source": [
    "isinstance(graph_compiled, Runnable), isinstance(graph, Runnable)"
   ]
  },
  {
   "cell_type": "markdown",
   "id": "14236677-cda6-47d4-8c31-dc9f34651817",
   "metadata": {},
   "source": [
    "graph_compiled:\n",
    "\n",
    "START --> chatbotNode --> END"
   ]
  },
  {
   "cell_type": "code",
   "execution_count": 56,
   "id": "3ab6346d-736c-486f-ab1d-a9745e8de9ae",
   "metadata": {},
   "outputs": [
    {
     "name": "stdout",
     "output_type": "stream",
     "text": [
      "{'chatbotNode': StateNodeSpec(runnable=chatbotNode(tags=None, recurse=True, explode_args=False, func_accepts={}), metadata=None, input_schema=<class '__main__.State'>, retry_policy=None, cache_policy=None, ends=(), defer=False)}\n"
     ]
    }
   ],
   "source": [
    "print(graph.nodes)"
   ]
  },
  {
   "cell_type": "code",
   "execution_count": 54,
   "id": "c1aac721-92c1-4c34-a855-cd68d3bba342",
   "metadata": {},
   "outputs": [
    {
     "name": "stdout",
     "output_type": "stream",
     "text": [
      "{('chatbotNode', '__end__'), ('__start__', 'chatbotNode')}\n"
     ]
    }
   ],
   "source": [
    "print(graph.edges)"
   ]
  },
  {
   "cell_type": "code",
   "execution_count": 57,
   "id": "c9b84a89-60ab-4dbd-9b30-ef6b113eb7cb",
   "metadata": {},
   "outputs": [
    {
     "data": {
      "text/plain": [
       "{'messages': [HumanMessage(content='Could you tell me a grook by Piet Hein?', additional_kwargs={}, response_metadata={})]}"
      ]
     },
     "execution_count": 57,
     "metadata": {},
     "output_type": "execute_result"
    }
   ],
   "source": [
    "state"
   ]
  },
  {
   "cell_type": "code",
   "execution_count": 58,
   "id": "e9e5e7b8-a92d-4417-94b0-f4c53b0f7919",
   "metadata": {},
   "outputs": [
    {
     "name": "stdout",
     "output_type": "stream",
     "text": [
      "\n",
      "-------> ENTERING chatbot:\n",
      "==================================\u001b[1m Ai Message \u001b[0m==================================\n",
      "\n",
      "Here's a classic Piet Hein grook:\n",
      "\n",
      "**Problems worthy of attack\n",
      "prove their worth by hitting back.**\n",
      "\n",
      "This grook is short, witty, and offers a bit of wisdom about facing challenges. It's a good example of Hein's style.\n"
     ]
    },
    {
     "data": {
      "text/plain": [
       "{'messages': [AIMessage(content=\"Here's a classic Piet Hein grook:\\n\\n**Problems worthy of attack\\nprove their worth by hitting back.**\\n\\nThis grook is short, witty, and offers a bit of wisdom about facing challenges. It's a good example of Hein's style.\", additional_kwargs={}, response_metadata={'prompt_feedback': {'block_reason': 0, 'safety_ratings': []}, 'finish_reason': 'STOP', 'model_name': 'gemini-2.0-flash', 'safety_ratings': []}, id='run--45e83ac1-94d5-443f-8404-e4d61e637af4-0', usage_metadata={'input_tokens': 11, 'output_tokens': 56, 'total_tokens': 67, 'input_token_details': {'cache_read': 0}})]}"
      ]
     },
     "execution_count": 58,
     "metadata": {},
     "output_type": "execute_result"
    }
   ],
   "source": [
    "graph_compiled.invoke(state)"
   ]
  },
  {
   "cell_type": "code",
   "execution_count": null,
   "id": "cf929d8d-dd19-4ded-88bc-3004b0b881b3",
   "metadata": {},
   "outputs": [],
   "source": []
  }
 ],
 "metadata": {
  "kernelspec": {
   "display_name": "Python (llms_course_env)",
   "language": "python",
   "name": "llms_course_env"
  },
  "language_info": {
   "codemirror_mode": {
    "name": "ipython",
    "version": 3
   },
   "file_extension": ".py",
   "mimetype": "text/x-python",
   "name": "python",
   "nbconvert_exporter": "python",
   "pygments_lexer": "ipython3",
   "version": "3.11.13"
  }
 },
 "nbformat": 4,
 "nbformat_minor": 5
}
