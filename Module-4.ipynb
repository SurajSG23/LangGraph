{
 "cells": [
  {
   "cell_type": "markdown",
   "id": "fe8d766a-033a-4e8a-a42a-5d401f069f39",
   "metadata": {},
   "source": [
    "# Thread level Persistence"
   ]
  },
  {
   "cell_type": "markdown",
   "id": "d61ece93-fce1-4179-b3cf-f8c6bda9cc82",
   "metadata": {},
   "source": [
    "#### **1. Checkpointers (in LangGraph)**\n",
    "\n",
    "* Think of a **checkpointer** like a “save game” in a video game.\n",
    "* It **remembers the state** of your workflow (like what data you’ve processed, what step you’re on).\n",
    "* If something crashes or you want to resume later, the checkpointer lets you **continue from where you left off** instead of starting from scratch.\n",
    "\n",
    "Example:\n",
    "You’re processing 100 documents. After 50, your program stops.\n",
    "\n",
    "* With a checkpointer → next time, it resumes at document 51.\n",
    "* Without a checkpointer → it starts again from document 1.\n",
    "\n",
    "---\n",
    "\n",
    "#### **2. Threads (in LangGraph)**\n",
    "\n",
    "* A **thread** is like a “conversation line” or “execution flow.”\n",
    "* Each user session or workflow run can have its own **thread ID**.\n",
    "* This keeps data and context separate between different tasks or users.\n",
    "\n",
    "Example:\n",
    "\n",
    "* User A’s chatbot session = Thread 1\n",
    "* User B’s chatbot session = Thread 2\n",
    "* They don’t mix, because each thread has its own memory and checkpoints.\n",
    "\n",
    "---\n",
    "\n",
    "#### **3. State Snapshot**\n",
    "\n",
    "* A **snapshot** is like taking a photo of your program’s current state.\n",
    "* It freezes everything (inputs, outputs, progress) so you can **restore it later**.\n",
    "* Snapshots are created by checkpointers to know exactly where to restart.\n",
    "\n",
    "Example: Chatbot saves a snapshot after every reply. If it crashes, it reloads the last snapshot and continues.\n",
    "\n",
    "---\n",
    "\n",
    "#### **4. Short-term Memory**\n",
    "\n",
    "* Short-term memory = what the system remembers **within a single thread/session**.\n",
    "* It’s like remembering the last few messages, but it doesn’t survive forever.\n",
    "\n",
    "Example: The chatbot remembers what you said 2 minutes ago in the same session.\n",
    "\n",
    "---\n",
    "\n",
    "### **5. Long-term Memory**\n",
    "\n",
    "* Long-term memory = what’s saved **permanently across sessions/threads**.\n",
    "* It survives restarts and can be recalled even in a new conversation.\n",
    "\n",
    "Example: The chatbot remembers your name and preferences even if you come back tomorrow.\n",
    "\n",
    "---\n",
    "\n"
   ]
  },
  {
   "cell_type": "markdown",
   "id": "7e2de003-2093-4607-ae00-8c1551073bbd",
   "metadata": {},
   "source": [
    "# Short-term memory with the InMemorySaver"
   ]
  },
  {
   "cell_type": "code",
   "execution_count": null,
   "id": "a5163238-a891-4157-952c-a658f8d967bc",
   "metadata": {},
   "outputs": [],
   "source": []
  }
 ],
 "metadata": {
  "kernelspec": {
   "display_name": "Python (llms_course_env)",
   "language": "python",
   "name": "llms_course_env"
  },
  "language_info": {
   "codemirror_mode": {
    "name": "ipython",
    "version": 3
   },
   "file_extension": ".py",
   "mimetype": "text/x-python",
   "name": "python",
   "nbconvert_exporter": "python",
   "pygments_lexer": "ipython3",
   "version": "3.11.13"
  }
 },
 "nbformat": 4,
 "nbformat_minor": 5
}
